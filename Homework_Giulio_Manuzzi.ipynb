{
  "cells": [
    {
      "cell_type": "markdown",
      "metadata": {
        "id": "view-in-github",
        "colab_type": "text"
      },
      "source": [
        "<a href=\"https://colab.research.google.com/github/giumanuz/DFSan_pde/blob/main/Homework_Giulio_Manuzzi.ipynb\" target=\"_parent\"><img src=\"https://colab.research.google.com/assets/colab-badge.svg\" alt=\"Open In Colab\"/></a>"
      ]
    },
    {
      "cell_type": "markdown",
      "metadata": {
        "id": "TspH1wJmAkdk"
      },
      "source": [
        "### For the homeworks we are going to use the \"[Online News Popularity Data Set](https://archive.ics.uci.edu/ml/datasets/Online+News+Popularity#)\"\n",
        "\n",
        "The dataset can be used both for regression and classification tasks.\n",
        "\n",
        "#### Source:\n",
        "\n",
        "Kelwin Fernandes INESC TEC, Porto, Portugal/Universidade do Porto, Portugal.\n",
        "Pedro Vinagre ALGORITMI Research Centre, Universidade do Minho, Portugal\n",
        "Paulo Cortez ALGORITMI Research Centre, Universidade do Minho, Portugal\n",
        "Pedro Sernadela Universidade de Aveiro\n",
        "\n",
        "#### Data Set Information:\n",
        "\n",
        "* The articles were published by Mashable (www.mashable.com) and their content as the rights to reproduce it belongs to them. Hence, this dataset does not share the original content but some statistics associated with it. The original content be publicly accessed and retrieved using the provided urls.\n",
        "* Acquisition date: January 8, 2015\n",
        "* The estimated relative performance values were estimated by the authors using a Random Forest classifier and a rolling windows as assessment method. See their article for more details on how the relative performance values were set.\n",
        "\n",
        "Attribute Information:\n",
        "\n",
        "Number of Attributes: 61 (58 predictive attributes, 2 non-predictive, 1 goal field)\n",
        "\n",
        "Attribute Information:\n",
        "0. url: URL of the article (non-predictive)\n",
        "1. timedelta: Days between the article publication and the dataset acquisition (non-predictive)\n",
        "2. n_tokens_title: Number of words in the title\n",
        "3. n_tokens_content: Number of words in the content\n",
        "4. n_unique_tokens: Rate of unique words in the content\n",
        "5. n_non_stop_words: Rate of non-stop words in the content\n",
        "6. n_non_stop_unique_tokens: Rate of unique non-stop words in the content\n",
        "7. num_hrefs: Number of links\n",
        "8. num_self_hrefs: Number of links to other articles published by Mashable\n",
        "9. num_imgs: Number of images\n",
        "10. num_videos: Number of videos\n",
        "11. average_token_length: Average length of the words in the content\n",
        "12. num_keywords: Number of keywords in the metadata\n",
        "13. data_channel_is_lifestyle: Is data channel 'Lifestyle'?\n",
        "14. data_channel_is_entertainment: Is data channel 'Entertainment'?\n",
        "15. data_channel_is_bus: Is data channel 'Business'?\n",
        "16. data_channel_is_socmed: Is data channel 'Social Media'?\n",
        "17. data_channel_is_tech: Is data channel 'Tech'?\n",
        "18. data_channel_is_world: Is data channel 'World'?\n",
        "19. kw_min_min: Worst keyword (min. shares)\n",
        "20. kw_max_min: Worst keyword (max. shares)\n",
        "21. kw_avg_min: Worst keyword (avg. shares)\n",
        "22. kw_min_max: Best keyword (min. shares)\n",
        "23. kw_max_max: Best keyword (max. shares)\n",
        "24. kw_avg_max: Best keyword (avg. shares)\n",
        "25. kw_min_avg: Avg. keyword (min. shares)\n",
        "26. kw_max_avg: Avg. keyword (max. shares)\n",
        "27. kw_avg_avg: Avg. keyword (avg. shares)\n",
        "28. self_reference_min_shares: Min. shares of referenced articles in Mashable\n",
        "29. self_reference_max_shares: Max. shares of referenced articles in Mashable\n",
        "30. self_reference_avg_sharess: Avg. shares of referenced articles in Mashable\n",
        "31. weekday_is_monday: Was the article published on a Monday?\n",
        "32. weekday_is_tuesday: Was the article published on a Tuesday?\n",
        "33. weekday_is_wednesday: Was the article published on a Wednesday?\n",
        "34. weekday_is_thursday: Was the article published on a Thursday?\n",
        "35. weekday_is_friday: Was the article published on a Friday?\n",
        "36. weekday_is_saturday: Was the article published on a Saturday?\n",
        "37. weekday_is_sunday: Was the article published on a Sunday?\n",
        "38. is_weekend: Was the article published on the weekend?\n",
        "39. LDA_00: Closeness to LDA topic 0\n",
        "40. LDA_01: Closeness to LDA topic 1\n",
        "41. LDA_02: Closeness to LDA topic 2\n",
        "42. LDA_03: Closeness to LDA topic 3\n",
        "43. LDA_04: Closeness to LDA topic 4\n",
        "44. global_subjectivity: Text subjectivity\n",
        "45. global_sentiment_polarity: Text sentiment polarity\n",
        "46. global_rate_positive_words: Rate of positive words in the content\n",
        "47. global_rate_negative_words: Rate of negative words in the content\n",
        "48. rate_positive_words: Rate of positive words among non-neutral tokens\n",
        "49. rate_negative_words: Rate of negative words among non-neutral tokens\n",
        "50. avg_positive_polarity: Avg. polarity of positive words\n",
        "51. min_positive_polarity: Min. polarity of positive words\n",
        "52. max_positive_polarity: Max. polarity of positive words\n",
        "53. avg_negative_polarity: Avg. polarity of negative words\n",
        "54. min_negative_polarity: Min. polarity of negative words\n",
        "55. max_negative_polarity: Max. polarity of negative words\n",
        "56. title_subjectivity: Title subjectivity\n",
        "57. title_sentiment_polarity: Title polarity\n",
        "58. abs_title_subjectivity: Absolute subjectivity level\n",
        "59. abs_title_sentiment_polarity: Absolute polarity level\n",
        "60. shares: Number of shares (target)\n",
        "\n",
        "\n",
        "The first two columns (url and time_delta) are non-predictive and should be ignored\n",
        "\n",
        "The last column **shares** contains the value to predict.\n",
        "\n",
        "### Regression\n",
        "In the case of regression we want to predict the value of the share column.\n",
        "\n",
        "### Classification\n",
        "In the case of classification we want to predict one of two classes:\n",
        "\n",
        "* *low* -- shares < 1,400\n",
        "* *high* -- shares >= 1,400\n",
        "\n",
        "### Metrics\n",
        "\n",
        "#### Regression\n",
        "To evaluate how good we are doing on the **regression** task we will use the Root Mean Squared Error (RMSE). RMSE is given by\n",
        "\n",
        "$$\n",
        "\\sqrt{\\frac{1}{n}\\sum\\limits_{i=1}^{n}{\\Big(d_i -f_i\\Big)^2}}\n",
        "$$\n",
        "\n",
        "\n",
        "where:\n",
        "\n",
        "* $n$ is the number of test samples\n",
        "* $d_i$ is the ground truth value of the i-th sample\n",
        "* $f_i$ is the predicted value of the i-th sample\n",
        "\n",
        "\n",
        "#### Classification\n",
        "To evaluate how good we are doing on the **classification** task we will use the accuracy metrics. Accuracy is given by\n",
        "\n",
        "$$\n",
        "\\frac{TP+TN}{TP+TN+FP+FN}\n",
        "$$\n",
        "\n",
        "where:\n",
        "\n",
        "* TP is the number of *correctly* classified positive samples\n",
        "* TN is the number of *correctly* classified negative samples\n",
        "* FP is the number of *incorrectly* classified positive samples\n",
        "* FN is the number of *incorrectly* classified negative samples"
      ]
    },
    {
      "cell_type": "code",
      "execution_count": null,
      "metadata": {
        "colab": {
          "base_uri": "https://localhost:8080/"
        },
        "id": "oesd6_bYijRo",
        "outputId": "8d693aa0-e4a5-4acd-86a1-43a76b328515"
      },
      "outputs": [
        {
          "output_type": "stream",
          "name": "stdout",
          "text": [
            "--2023-04-08 12:19:43--  https://archive.ics.uci.edu/ml/machine-learning-databases/00332/OnlineNewsPopularity.zip\n",
            "Resolving archive.ics.uci.edu (archive.ics.uci.edu)... 128.195.10.252\n",
            "Connecting to archive.ics.uci.edu (archive.ics.uci.edu)|128.195.10.252|:443... connected.\n",
            "HTTP request sent, awaiting response... 200 OK\n",
            "Length: 7476401 (7.1M) [application/x-httpd-php]\n",
            "Saving to: ‘OnlineNewsPopularity.zip’\n",
            "\n",
            "OnlineNewsPopularit 100%[===================>]   7.13M  5.13MB/s    in 1.4s    \n",
            "\n",
            "2023-04-08 12:19:45 (5.13 MB/s) - ‘OnlineNewsPopularity.zip’ saved [7476401/7476401]\n",
            "\n"
          ]
        }
      ],
      "source": [
        "!wget https://archive.ics.uci.edu/ml/machine-learning-databases/00332/OnlineNewsPopularity.zip"
      ]
    },
    {
      "cell_type": "code",
      "execution_count": null,
      "metadata": {
        "colab": {
          "base_uri": "https://localhost:8080/"
        },
        "id": "gmad6QdZ_nFR",
        "outputId": "4a844b6b-ac63-4530-dc09-823f9269c680"
      },
      "outputs": [
        {
          "output_type": "stream",
          "name": "stdout",
          "text": [
            "Archive:  OnlineNewsPopularity.zip\n",
            "   creating: OnlineNewsPopularity/\n",
            "  inflating: OnlineNewsPopularity/OnlineNewsPopularity.names  \n",
            "  inflating: OnlineNewsPopularity/OnlineNewsPopularity.csv  \n"
          ]
        }
      ],
      "source": [
        "!unzip OnlineNewsPopularity.zip"
      ]
    },
    {
      "cell_type": "code",
      "execution_count": null,
      "metadata": {
        "id": "8eW4t_c6ACcm"
      },
      "outputs": [],
      "source": [
        "import pandas as pd\n",
        "import numpy as np"
      ]
    },
    {
      "cell_type": "markdown",
      "source": [
        "Format properly the names of the columns and remove the first two columns"
      ],
      "metadata": {
        "id": "yXCX_LpFedtj"
      }
    },
    {
      "cell_type": "code",
      "execution_count": null,
      "metadata": {
        "id": "1mxntjhmAH0D"
      },
      "outputs": [],
      "source": [
        "df = pd.read_csv('OnlineNewsPopularity/OnlineNewsPopularity.csv')\n",
        "df = df.rename(columns=lambda x: x.strip())\n",
        "df = df.iloc[: , 2:]"
      ]
    },
    {
      "cell_type": "code",
      "execution_count": null,
      "metadata": {
        "colab": {
          "base_uri": "https://localhost:8080/"
        },
        "id": "qCXwyljnAMmi",
        "outputId": "0d5e4342-9440-4549-8a3e-17a91446e5d4"
      },
      "outputs": [
        {
          "output_type": "execute_result",
          "data": {
            "text/plain": [
              "n_tokens_title                   float64\n",
              "n_tokens_content                 float64\n",
              "n_unique_tokens                  float64\n",
              "n_non_stop_words                 float64\n",
              "n_non_stop_unique_tokens         float64\n",
              "num_hrefs                        float64\n",
              "num_self_hrefs                   float64\n",
              "num_imgs                         float64\n",
              "num_videos                       float64\n",
              "average_token_length             float64\n",
              "num_keywords                     float64\n",
              "data_channel_is_lifestyle        float64\n",
              "data_channel_is_entertainment    float64\n",
              "data_channel_is_bus              float64\n",
              "data_channel_is_socmed           float64\n",
              "data_channel_is_tech             float64\n",
              "data_channel_is_world            float64\n",
              "kw_min_min                       float64\n",
              "kw_max_min                       float64\n",
              "kw_avg_min                       float64\n",
              "kw_min_max                       float64\n",
              "kw_max_max                       float64\n",
              "kw_avg_max                       float64\n",
              "kw_min_avg                       float64\n",
              "kw_max_avg                       float64\n",
              "kw_avg_avg                       float64\n",
              "self_reference_min_shares        float64\n",
              "self_reference_max_shares        float64\n",
              "self_reference_avg_sharess       float64\n",
              "weekday_is_monday                float64\n",
              "weekday_is_tuesday               float64\n",
              "weekday_is_wednesday             float64\n",
              "weekday_is_thursday              float64\n",
              "weekday_is_friday                float64\n",
              "weekday_is_saturday              float64\n",
              "weekday_is_sunday                float64\n",
              "is_weekend                       float64\n",
              "LDA_00                           float64\n",
              "LDA_01                           float64\n",
              "LDA_02                           float64\n",
              "LDA_03                           float64\n",
              "LDA_04                           float64\n",
              "global_subjectivity              float64\n",
              "global_sentiment_polarity        float64\n",
              "global_rate_positive_words       float64\n",
              "global_rate_negative_words       float64\n",
              "rate_positive_words              float64\n",
              "rate_negative_words              float64\n",
              "avg_positive_polarity            float64\n",
              "min_positive_polarity            float64\n",
              "max_positive_polarity            float64\n",
              "avg_negative_polarity            float64\n",
              "min_negative_polarity            float64\n",
              "max_negative_polarity            float64\n",
              "title_subjectivity               float64\n",
              "title_sentiment_polarity         float64\n",
              "abs_title_subjectivity           float64\n",
              "abs_title_sentiment_polarity     float64\n",
              "shares                             int64\n",
              "dtype: object"
            ]
          },
          "metadata": {},
          "execution_count": 11
        }
      ],
      "source": [
        "df.dtypes"
      ]
    },
    {
      "cell_type": "markdown",
      "source": [
        "## Let's plot some of the columns"
      ],
      "metadata": {
        "id": "mu_rxzq0f2gV"
      }
    },
    {
      "cell_type": "code",
      "execution_count": null,
      "metadata": {
        "colab": {
          "base_uri": "https://localhost:8080/",
          "height": 843
        },
        "id": "VbFlnYRjAXlk",
        "outputId": "464258e3-3544-4c74-a8d4-fc4e84fe0131"
      },
      "outputs": [
        {
          "output_type": "display_data",
          "data": {
            "text/plain": [
              "<Figure size 2000x2000 with 6 Axes>"
            ],
            "image/png": "[encoded data removed]"
          },
          "metadata": {}
        }
      ],
      "source": [
        "import matplotlib.pyplot as plt\n",
        "import seaborn as sns\n",
        "\n",
        "columns_to_plot = [\n",
        "    'num_videos',\n",
        "    'num_imgs',\n",
        "    'num_keywords',\n",
        "    'data_channel_is_world',\n",
        "    'rate_negative_words',\n",
        "    'self_reference_avg_sharess',\n",
        "]\n",
        "\n",
        "fig, ax = plt.subplots(len(columns_to_plot), 1, figsize=(20, 20))\n",
        "\n",
        "for i, column in enumerate(columns_to_plot, 0):\n",
        "  ax[i].hist(df[column])\n",
        "  ax[i].title.set_text(column)\n",
        "\n",
        "plt.show()"
      ]
    },
    {
      "cell_type": "markdown",
      "source": [
        "##Preparazione dei dati"
      ],
      "metadata": {
        "id": "4QNib7H3Eu8I"
      }
    },
    {
      "cell_type": "code",
      "source": [
        "from sklearn.model_selection import train_test_split\n",
        "\n",
        "matrix=np.array(df)\n",
        "x=matrix[: , :-1]\n",
        "y=np.array([elem >= 1400 for elem in matrix[:, -1]])\n",
        "\n",
        "x_train, x_test, y_train, y_test=train_test_split(x,y, test_size=0.2, random_state=1)\n"
      ],
      "metadata": {
        "id": "FiIezAzAEx3C"
      },
      "execution_count": null,
      "outputs": []
    },
    {
      "cell_type": "markdown",
      "source": [
        "#Decision Tree"
      ],
      "metadata": {
        "id": "Fn8SZbkbNk26"
      }
    },
    {
      "cell_type": "markdown",
      "source": [],
      "metadata": {
        "id": "8eAY1P05EuNG"
      }
    },
    {
      "cell_type": "markdown",
      "source": [
        "Un Decision Tree è un algoritmo di **apprendimento supervisionato** utilizzato nell'ambito del machine learning.\n",
        "\n",
        "Il decision tree rappresenta un **modello predittivo** che, a partire da un insieme di dati di training, costruisce un albero di decisione rappresentato da una serie di *decisioni* per giungere a una predizione.\n",
        "\n",
        "I valori di input e output possono essere discreti o continui, ma nella mia implementazione considerero' solo valori discreti in input e valori booleani in output (YES in caso di esito positivo, NO in caso di esito negativo).\n",
        "\n",
        "##Costruzione del DT\n",
        "\n",
        "Il processo di costruzione del decision tree prevede la selezione della feature più importante per separare i dati in sottoinsiemi omogenei, in modo da ridurre l'entropia all'interno di ogni sottoinsieme. \n",
        "Sia $B(q)$ l'entropia di una variabile aleatoria booleana che eè vera con probabilita' $q$:\n",
        "\n",
        "$$\n",
        "B(q)=-(q \\cdot log_2q + (1-q)log_2(1-q))\n",
        "$$\n",
        "\n",
        "Se un training set contiene $p$ examples positivi ed $n$ examples negativi, allora l'entropia della variabile in output nell'intero set è :\n",
        "\n",
        "$$\n",
        "H(Output)=B(\\frac{p}{p+n})\n",
        "$$\n",
        "\n",
        "Un attributo A con *d* distinti valori divide il training set E in $E_1$, $E_2$, ... , $E_d$ sottoinsiemi.\n",
        "Ciascun sottoinsieme $E_k$ ha $p_k$ esempi positivi e $n_k$ esempi negativi. Un esempio scelto a caso dal training set ha il valore k-esimo per l'attributo (ovvero, è in E$_k$ con probabilità $\\frac{p_k + n_k}{p + n}$), quindi l'entropia attesa rimanente dopo il test dell'attributo A è:\n",
        "\n",
        "$$\n",
        "Remainder(A) = \\sum\\limits_{k=1}^{d}{\\frac{p_k + n_k}{p + n}B(\\frac{p_k}{p_k+n_k})}\n",
        "$$\n",
        "\n",
        "\n",
        "Per cercare, quindi, il miglior attributo A su cui splittare il dataset, bisogna trovare la feature con il **Gain maggiore**:\n",
        "\n",
        "$$\n",
        "Gain(A)=\\frac{p}{p+n} - Remainder(A)\n",
        "$$\n",
        "\n",
        "L'algoritmo da noi studiato, come in genere quelli basati su alberi, e' di tipo ricorsivo.\n",
        "Ci sono solamente 4 casi base:\n",
        "\n",
        "* Se i restanti examples sono tutti positivi (o tutti negativi), allora abbiamo finito: possiamo rispondere Sì o No.\n",
        "* Se non sono rimasti examples, significa che non è stato osservato alcun example per questa combinazione di valori di attributo e restituiamo il valore di output più comune dall'insieme di esempi utilizzati nella costruzione del genitore del nodo (*majority value*). \n",
        "* Se non sono rimasti attributi, ma examples sia positivi che negativi, significa che questi esempi hanno esattamente la stessa descrizione, ma classificazioni diverse.\n",
        "Questo può accadere perché: c'è un errore o un **rumore** nei dati; perché il dominio è non-deterministico; perché non possiamo osservare un attributo che distinguerebbe gli examples.\n",
        "* Se ci sono alcuni esempi positivi e alcuni negativi, si sceglie l'attributo migliore per dividerli (passo ricorsivo). Sulla base di questo attributo si splittano gli examples rimasti in due insiemi secondo il metodo della meduiana: gli examples con il corrispondente valore della feature minore del valore della mediana costituiranno gli examples che serviranno da input alla funzione ricorsiva sul figlio sinistro: viceversa, quelli con valore maggiore o uguale costituiranno l'input al passo ricorsivo sul figlio destro.\n",
        "\n",
        "\n",
        "Una volta costruito il decision tree, esso può essere utilizzato per effettuare predizioni su nuovi dati di test, seguendo il percorso dell'albero a partire dalla radice fino ad arrivare ad una foglia che rappresenta la predizione finale.\n",
        "\n",
        "In sintesi, l'albero decisionale rappresenta un modello intuitivo e interpretabile che permette di effettuare predizioni basate su regole semplici. Tuttavia, è importante considerare che la scelta delle feature e l'ordine di presentazione possono influire notevolmente sulla qualità delle predizioni e sulla robustezza del modello."
      ],
      "metadata": {
        "id": "95J9ybo8NrpQ"
      }
    },
    {
      "cell_type": "code",
      "source": [
        "from sklearn.model_selection import train_test_split\n",
        "from sklearn.tree import DecisionTreeClassifier\n",
        "from sklearn import tree\n",
        "from sklearn.tree import DecisionTreeClassifier\n",
        "from sklearn import metrics\n",
        "from sklearn.metrics import classification_report\n",
        "from sklearn.tree import export_graphviz\n",
        "import numpy as np\n",
        "from statistics import median\n",
        "import cProfile\n",
        "import math\n",
        "import time\n",
        "\n",
        "\n",
        "class Node:\n",
        "\n",
        "    def __init__(self, feature, median, left, right, value=None):\n",
        "        self.feature = feature\n",
        "        self.median = median\n",
        "        self.left = left\n",
        "        self.right = right\n",
        "        self.value = value\n",
        "    \n",
        "    def isLeaf(self):\n",
        "        return self.value!=None\n",
        "    \n",
        "    def getFeature(self):\n",
        "        return self.feature\n",
        "    \n",
        "    def getMedian(self):\n",
        "        return self.median\n",
        "    \n",
        "    def getLeft(self):\n",
        "        return self.left\n",
        "    \n",
        "    def getRight(self):\n",
        "        return self.right\n",
        "    \n",
        "    def getValue(self):\n",
        "        return self.value\n",
        "    \n",
        "class Tree:\n",
        "\n",
        "    def __init__(self):\n",
        "        self.root=None \n",
        "\n",
        "    def entropy(self, p):\n",
        "        if p==0 or p==1:\n",
        "            return 0\n",
        "        return -p*math.log2(p) - (1-p)*math.log2((1-p))\n",
        "\n",
        "    def calcolaSXDX(self, feature, examples):\n",
        "        leftPositives = 0\n",
        "        rightPositives = 0\n",
        "        leftElementsCount = 0\n",
        "        rightElementsCount = 0\n",
        "        mediana = median([elem[feature] for elem in examples])\n",
        "        \n",
        "        for i in range(len(examples)):\n",
        "            if examples[i][feature] <= mediana:\n",
        "                leftElementsCount += 1\n",
        "                if examples[i][-1] == True:\n",
        "                    leftPositives += 1\n",
        "            else:\n",
        "                rightElementsCount += 1\n",
        "                if examples[i][-1] == True:\n",
        "                    rightPositives += 1\n",
        "        return leftPositives, rightPositives, leftElementsCount, rightElementsCount\n",
        "\n",
        "    def remainder(self, feature, examples):\n",
        "        leftPositives, rightPositives , leftElementsCount, rightElementsCount = self.calcolaSXDX(feature, examples)\n",
        "\n",
        "        if (leftElementsCount==0 and rightElementsCount==0 or leftPositives ==0 and rightPositives ==0):\n",
        "            return 0\n",
        "        elif (leftElementsCount==0 or leftPositives ==0):\n",
        "            return (rightElementsCount/(leftElementsCount+rightElementsCount))*self.entropy(rightPositives/rightElementsCount)\n",
        "        elif (rightElementsCount==0) or rightPositives ==0:\n",
        "            return (leftElementsCount/(leftElementsCount+rightElementsCount))*self.entropy(leftPositives/leftElementsCount)\n",
        "\n",
        "        return (leftElementsCount/(leftElementsCount+rightElementsCount))*self.entropy(leftPositives/leftElementsCount) + (rightElementsCount/(leftElementsCount+rightElementsCount))*self.entropy(rightPositives/rightElementsCount)\n",
        "\n",
        "    def splitFeature(self, feature, examples):\n",
        "        mediana= median([elem[feature] for elem in examples])\n",
        "    \n",
        "        sxList=[]\n",
        "        dxList=[]\n",
        "        for i in range(len(examples)):\n",
        "            if examples[i][feature] <= mediana:\n",
        "                sxList.append(examples[i])\n",
        "            else:\n",
        "                dxList.append(examples[i])\n",
        "        return mediana, sxList, dxList\n",
        "\n",
        "    def gain(self, entropy, feature, examples):\n",
        "        return entropy - self.remainder(feature, examples)\n",
        "\n",
        "    def pluralityValue(self, examples):\n",
        "        numPos = 0\n",
        "        for i in range(len(examples)):\n",
        "            if examples[i][-1] == True:\n",
        "                numPos += 1\n",
        "        if numPos > len(examples)/2:\n",
        "            return Node(None, None, None, None, True)\n",
        "        else:\n",
        "            return Node(None, None, None, None, False)\n",
        "        \n",
        "    def allSameClass(self, examples):\n",
        "        for i in range(len(examples)-1):\n",
        "            if examples[i][-1] != examples[i+1][-1]:\n",
        "                return False\n",
        "        return True\n",
        "\n",
        "    def fit(self, examples):\n",
        "        features=[i for i in range(len(examples[0])-1)]\n",
        "        self.root=self.learnDecisionTree(examples, features, examples)\n",
        "\n",
        "\n",
        "    def learnDecisionTree(self, examples, attributes, parent_examples):\n",
        "\n",
        "        if len(examples) == 0:\n",
        "            return self.pluralityValue(parent_examples)\n",
        "        elif self.allSameClass(examples):\n",
        "            return Node(None, None, None, None, examples[0][-1])\n",
        "        elif len(attributes) == 0:\n",
        "            return self.pluralityValue(examples)\n",
        "        else:\n",
        "            bestFeature = self.getBestFeature(examples, attributes)\n",
        "\n",
        "            mediana, sx, dx=self.splitFeature(bestFeature, examples)\n",
        "\n",
        "            leftAttributes=attributes.copy()\n",
        "            leftAttributes.remove(bestFeature)\n",
        "            nodoSx=self.learnDecisionTree(sx, leftAttributes, examples)\n",
        "\n",
        "            rightAttributes=attributes.copy()\n",
        "            rightAttributes.remove(bestFeature)\n",
        "            nodoDx=self.learnDecisionTree(dx, rightAttributes, examples)\n",
        "\n",
        "            nodo = Node(bestFeature, mediana, nodoSx, nodoDx)\n",
        "            return nodo\n",
        "\n",
        "    def getBestFeature(self, examples, attributes):\n",
        "        positiveCount=0\n",
        "        for i in range(len(examples)):\n",
        "            if examples[i][-1]==True:\n",
        "                positiveCount+=1\n",
        "        entropy=self.entropy(positiveCount/len(examples))\n",
        "        maxGain=None\n",
        "        bestFeature=0\n",
        "        for feature in attributes:\n",
        "            gainFeature=self.gain(entropy, feature, examples)\n",
        "            if maxGain==None or gainFeature>maxGain :\n",
        "                maxGain=gainFeature\n",
        "                bestFeature=feature\n",
        "        return bestFeature\n",
        "\n",
        "    def predict(self, x, nodo=None):\n",
        "        if self.root == None:\n",
        "            raise Exception(\"Il modello non è stato ancora addestrato\")\n",
        "        else:\n",
        "            if nodo==None:\n",
        "                nodo=self.root\n",
        "            if nodo.isLeaf():\n",
        "                return nodo.getValue()\n",
        "            else:\n",
        "                if x[nodo.getFeature()] <= nodo.getMedian():\n",
        "                    return self.predict(x, nodo.getLeft())\n",
        "                else:\n",
        "                    return self.predict(x, nodo.getRight())\n",
        "            \n",
        "    def accuracy(self, x_test, y_test):\n",
        "        count=0\n",
        "        for i in range(len(x_test)):\n",
        "            if self.predict(x_test[i])==y_test[i]:\n",
        "                count+=1\n",
        "        return count/len(x_test)\n"
      ],
      "metadata": {
        "id": "OYBciQdPXmnS"
      },
      "execution_count": null,
      "outputs": []
    },
    {
      "cell_type": "markdown",
      "source": [
        "## Training e Test"
      ],
      "metadata": {
        "id": "pnMUgRliz3An"
      }
    },
    {
      "cell_type": "markdown",
      "source": [
        "###Mia implementazione"
      ],
      "metadata": {
        "id": "Cl_R_buB1ese"
      }
    },
    {
      "cell_type": "code",
      "source": [
        "attributes=[i for i in range(len(x_train[0]))]\n",
        "x_train=x_train.tolist()\n",
        "for i in range(len(x_train)):\n",
        "    x_train[i].append(y_train[i])\n",
        "\n",
        "mioTree= Tree()\n",
        "start=time.time()\n",
        "mioTree.fit(x_train)\n",
        "end=time.time()\n",
        "\n",
        "print('Mia implementazione Decision Tree')\n",
        "print(f'Tempo di addestramento= {end-start} secondi')\n",
        "print(f'Accuracy = {mioTree.accuracy(x_test,  y_test )*100}%')"
      ],
      "metadata": {
        "id": "MT4bVinc0JLz"
      },
      "execution_count": null,
      "outputs": []
    },
    {
      "cell_type": "markdown",
      "source": [
        "###Scikit-Learn library"
      ],
      "metadata": {
        "id": "aLPtT8om1sIj"
      }
    },
    {
      "cell_type": "code",
      "source": [
        "matrix=np.array(df)\n",
        "x=matrix[: , :-1]\n",
        "y=np.array([elem >= 1400 for elem in matrix[:, -1]])\n",
        "\n",
        "x_train, x_test, y_train, y_test=train_test_split(x,y, test_size=0.2, random_state=1)\n",
        "\n",
        "clf=tree.DecisionTreeClassifier( criterion='entropy')\n",
        "clf=clf.fit(x_train, y_train)\n",
        "\n",
        "print('Scikit-learn Decision Tree')\n",
        "print(f'Accuracy = {metrics.accuracy_score(y_test, clf.predict(x_test))*100}%')"
      ],
      "metadata": {
        "id": "H9JZ4iyA-n2I"
      },
      "execution_count": null,
      "outputs": []
    },
    {
      "cell_type": "markdown",
      "source": [
        "#Linear Regression and Classification"
      ],
      "metadata": {
        "id": "ObwrK7qp2i1r"
      }
    },
    {
      "cell_type": "markdown",
      "source": [
        "La regressione e classificazione lineare sono due tecniche machine learning utilizzate per effettuare predizioni su dati numerici.\n",
        "\n",
        "La regressione lineare è un processo di determinazione di una funzione lineare che approssima al meglio la relazione tra una variabile dipendente $Y$ ed una o piu' variabili indipendenti $X_1, X_2, ... , X_k$. \n",
        "\n",
        "La classificazione lineare, invece, ha come obiettivo quello di utilizzare le caratteristiche di un oggetto per identificare a quale classe (o gruppo) appartiene.\n",
        "\n",
        "In entrambi i casi, la \"lineare\" nella regressione e classificazione lineare si riferisce alla funzione matematica utilizzata per modellare la relazione tra le variabili di input e output.\n"
      ],
      "metadata": {
        "id": "V00Ota4Z3RYv"
      }
    },
    {
      "cell_type": "markdown",
      "source": [
        "Una funzione lineare con input x e output y ha la forma:\n",
        "$$\n",
        "y = h(x) = w_1 x +  w_0\n",
        "$$\n",
        "dove $w_1$ e $w_0$ sono dei coefficienti che devono essere imparati dal modello. Possiamo quindi esprimere il modello come il prodotto scalare tra il vettore dei pesi $w = [w_0, w_1]^T$ e il vettore delle features di un sample $x = [1, x]^T$.\n",
        "\n",
        "Il nostro obiettivo e' trovare i coefficienti $w_1$ e $w_0$ ottimi tali che la funzione di loss sia minima. \n",
        "\n",
        "$$\n",
        "Loss(h_w) = \\sum\\limits_{j=1}^{N}(y_i-(w_1x_j+w_0))^2\n",
        "$$\n",
        "\n",
        "Quindi si impongono le derivate parziali rispetto ai coefficienti uguali a zero:\n",
        "\n",
        "$$\n",
        "\\begin{cases}\n",
        "\\frac{\\partial}{\\partial w_0} \\sum\\limits_{j=1}^{N}(y_i-(w_1x_j+w_0))^2 &= 0 \\\\\n",
        "\\frac{\\partial}{\\partial w_1} \\sum\\limits_{j=1}^{N}(y_i-(w_1x_j+w_0))^2 &= 0 \\\\\n",
        "\\end{cases}\n",
        "$$\n",
        "Dove l'unica soluzione e':\n",
        "\n",
        "$$\n",
        "\\begin{cases}\n",
        "w_1 = \\frac {N( \\sum x_j y_j) - ( \\sum x_j)( \\sum y_j)}{N( \\sum x_j^2) - ( \\sum x_j)^2} \\\\\n",
        "w_0 = \\frac {\\sum y_j - w_1 \\sum x_j}{N}\n",
        "\\end{cases}\n",
        "$$"
      ],
      "metadata": {
        "id": "V8iYO48a6mGu"
      }
    },
    {
      "cell_type": "markdown",
      "source": [
        "Il codice seguente implementa la regressione lineare senza regolarizzazione in cui uso la formula chiusa per il vettore dei pesi (Equazione normale):\n",
        "\n",
        "$$\n",
        "w^* = (X^TX)^{-1}X^Ty\n",
        "$$"
      ],
      "metadata": {
        "id": "5GxI5v_yBakd"
      }
    },
    {
      "cell_type": "markdown",
      "source": [
        "##Preparazione dei dati"
      ],
      "metadata": {
        "id": "n7Jjo4cxIJNp"
      }
    },
    {
      "cell_type": "code",
      "source": [
        "x=matrix[: , :-1]\n",
        "x=(x-x.mean(axis=0))/x.std(axis=0)\n",
        "y=matrix[: , -1]\n",
        "\n",
        "x_train, x_test, y_train, y_test=train_test_split(x,y, test_size=0.2, random_state=1)"
      ],
      "metadata": {
        "id": "LRXXmB6hIMCx"
      },
      "execution_count": null,
      "outputs": []
    },
    {
      "cell_type": "markdown",
      "source": [
        "##Regressione Lineare senza regolarizzaione"
      ],
      "metadata": {
        "id": "fWN8-nhSIQGa"
      }
    },
    {
      "cell_type": "markdown",
      "source": [
        "###Mia implementazione (con formula chiusa)"
      ],
      "metadata": {
        "id": "t1QjKLmkAUHI"
      }
    },
    {
      "cell_type": "code",
      "source": [
        "from sklearn.metrics import mean_squared_error\n",
        "\n",
        "class LinearRegression:\n",
        "    def __init__(self):\n",
        "        self.w = None\n",
        "        self.b = None\n",
        "\n",
        "    def fit(self, x, y):\n",
        "        x = np.insert(x, 0, 1, axis=1)\n",
        "        self.w = np.linalg.inv(x.T.dot(x)).dot(x.T).dot(y)\n",
        "        self.b = self.w[0]\n",
        "        self.w = self.w[1:]\n",
        "\n",
        "    def predict(self, x):\n",
        "        return x.dot(self.w) + self.b"
      ],
      "metadata": {
        "id": "CFIXRBsd63Cl"
      },
      "execution_count": null,
      "outputs": []
    },
    {
      "cell_type": "code",
      "source": [
        "myModel=LinearRegression()\n",
        "myModel.fit(x_train, y_train)\n",
        "\n",
        "print('Mia implemntazione: Linear Regression senza regolarizzazione con formula chiusa')\n",
        "print(f'accuracy_test= {mean_squared_error(y_test, myModel.predict(x_test), squared=False)}')\n",
        "\n"
      ],
      "metadata": {
        "colab": {
          "base_uri": "https://localhost:8080/"
        },
        "id": "ZmFY42a-DGw-",
        "outputId": "529143fc-35fa-44c1-d2cf-e409f151f059"
      },
      "execution_count": null,
      "outputs": [
        {
          "output_type": "stream",
          "name": "stdout",
          "text": [
            "Mia implemntazione: Linear Regression senza regolarizzazione con formula chiusa\n",
            "accuracy_test= 8268.382811051537\n"
          ]
        }
      ]
    },
    {
      "cell_type": "markdown",
      "source": [
        "###Scikit-Learn"
      ],
      "metadata": {
        "id": "QUC6GlQBAjKu"
      }
    },
    {
      "cell_type": "code",
      "source": [
        "from sklearn.linear_model import LinearRegression as LR\n",
        "\n",
        "modelloCVero=LR()\n",
        "modelloCVero.fit(x_train, y_train)\n",
        "\n",
        "print('Scikit-Learn: Linear regression senza regolarizzazione')\n",
        "print(f'accuracy_test= {mean_squared_error(y_test, modelloCVero.predict(x_test), squared=False)}')"
      ],
      "metadata": {
        "colab": {
          "base_uri": "https://localhost:8080/"
        },
        "id": "yEnvOt60C-sm",
        "outputId": "a24f33e5-66e8-4de9-8374-6384677294d7"
      },
      "execution_count": null,
      "outputs": [
        {
          "output_type": "stream",
          "name": "stdout",
          "text": [
            "Scikit-Learn: Linear regression senza regolarizzazione\n",
            "accuracy_test= 8263.745130527139\n"
          ]
        }
      ]
    },
    {
      "cell_type": "markdown",
      "source": [],
      "metadata": {
        "id": "b4zrPHjSBJNZ"
      }
    },
    {
      "cell_type": "markdown",
      "source": [
        "### Implementazione con Gradient Descent"
      ],
      "metadata": {
        "id": "pxuRRWCFBJQC"
      }
    },
    {
      "cell_type": "markdown",
      "source": [
        "Il Gradient Descent e' un algoruitmo di ottimizzazione volto a trovare i coefficienti ottimali del modello che minimizzano la funzione di costo del modello. E' un algoritmo che funziona iterativamente aggiornando i coefficienti in base alla direzione e al valore del gradiente della funzione di costo rispetto ai coefficienti stessi. Il Learning Rate e' un iperparametro dell'algoritmo che determina quanto grande sia il passo di aggiornamento dei coefficienti ad ogni iterazione. \n",
        "\n",
        "$$\n",
        "\\begin{cases}\n",
        "w_0 \\leftarrow w_0 + \\alpha (y - h_w(x)) \\\\\n",
        "w_1 \\leftarrow w_1 + \\alpha (y - h_w(x)) \\times x\n",
        "\\end{cases}\n",
        "$$"
      ],
      "metadata": {
        "id": "EXUMoJ1bBPIb"
      }
    },
    {
      "cell_type": "code",
      "source": [
        "class LinearRegression:\n",
        "    def __init__(self, num_iter=1000, learning_rate=0.01, regolarizzation=None, regulation_parameters_L1=0.01, regulation_parameters_L2=0.01, classification=False):\n",
        "        self.weights = None\n",
        "        self.bias = None\n",
        "        self.num_iter = num_iter\n",
        "        self.learning_rate = learning_rate\n",
        "        self.regolarizzation = regolarizzation\n",
        "        self.regulation_parameters_L1 = regulation_parameters_L1\n",
        "        self.regulation_parameters_L2 = regulation_parameters_L2\n",
        "        self.classification = classification\n",
        "\n",
        "    def fit(self, X, y):\n",
        "        n_samples, n_features = X.shape\n",
        "        X = np.insert(X, 0, 1, axis=1)\n",
        "        self.weights = np.zeros(n_features+1)\n",
        "\n",
        "        for i in range(self.num_iter):\n",
        "\n",
        "            if self.classification:\n",
        "                if self.regolarizzation == 'logistic':\n",
        "                    y_predicted = [1 / (1 + math.exp(-i)) for i in np.dot(X, self.weights)]\n",
        "                else:\n",
        "                    y_predicted = [1 if i >=0 else 0 for i in np.dot(X, self.weights)]\n",
        "            else:\n",
        "                y_predicted = np.dot(X, self.weights)\n",
        "\n",
        "            \n",
        "            if self.regolarizzation == 'L1':\n",
        "                dw=(1/n_samples)*np.dot(X.T, (y_predicted-y)) + self.regulation_parameters_L1*np.sign(self.weights)\n",
        "            elif self.regolarizzation == 'L2':\n",
        "                dw=(1/n_samples)*np.dot(X.T, (y_predicted-y)) + 2* self.regulation_parameters_L2*self.weights\n",
        "            elif self.regolarizzation == 'elasticnet':\n",
        "                dw=(1/n_samples)*np.dot(X.T, (y_predicted-y)) + self.regulation_parameters_L1*np.sign(self.weights) + 2*self.regulation_parameters_L2*self.weights\n",
        "            else:\n",
        "                dw=(1/n_samples)*np.dot(X.T, (y_predicted-y))\n",
        "\n",
        "            self.weights -= self.learning_rate * dw\n",
        "\n",
        "    def predict(self, X, classification=False, logistic=False):\n",
        "        X = np.insert(X, 0, 1, axis=1)\n",
        "        if classification:\n",
        "            if logistic:\n",
        "                y_approximated = [1 / (1 + math.exp(-i)) for i in np.dot(X, self.weights)]\n",
        "                y_approximated = [1 if i >=0.5 else 0 for i in y_approximated]\n",
        "            else:\n",
        "                y_approximated = [1 if i >=0 else 0 for i in np.dot(X, self.weights)]\n",
        "        else:\n",
        "            y_approximated = np.dot(X, self.weights)\n",
        "        return y_approximated"
      ],
      "metadata": {
        "id": "NPD7V0_iPyKL"
      },
      "execution_count": null,
      "outputs": []
    },
    {
      "cell_type": "code",
      "source": [
        "myModel=LinearRegression(num_iter=1000, learning_rate=0.01)\n",
        "myModel.fit(x_train, y_train)\n",
        "\n",
        "print('Mia implemntazione: Linear Regression senza regolarizzazione con gradient descent')\n",
        "print(f'error_test_without_regolarization= {mean_squared_error(y_test, myModel.predict(x_test), squared=False)}')\n"
      ],
      "metadata": {
        "colab": {
          "base_uri": "https://localhost:8080/"
        },
        "id": "KXnsEdOCQ2Cp",
        "outputId": "6234ee64-298e-41ad-cc41-6fec7e9897bf"
      },
      "execution_count": null,
      "outputs": [
        {
          "output_type": "stream",
          "name": "stdout",
          "text": [
            "Mia implemntazione: Linear Regression senza regolarizzazione con gradient descent\n",
            "error_test_without_regolarization= 8269.463319524202\n"
          ]
        }
      ]
    },
    {
      "cell_type": "markdown",
      "source": [
        "##Regressione lineare con regolarizzazione L1"
      ],
      "metadata": {
        "id": "IGanyQax0NLI"
      }
    },
    {
      "cell_type": "markdown",
      "source": [
        "Lasso Regression (least Absolute Shrinkage and Selection Operator) o $L_1$ Regolarization ha la seguente ipotesi:\n",
        "\n",
        "$$\n",
        "L(y, \\hat y) = MSE(y, \\hat y) + \\lambda L_1(w)\n",
        "$$\n",
        "dove \n",
        "$$\n",
        "L_1(w) = \\sum\\limits_{j} |{w_j}|\n",
        "$$\n",
        "e $\\lambda$ e' un iperparametro.\n",
        "\n",
        "N.B. esiste anche una formula chiusa per la Lasso\n"
      ],
      "metadata": {
        "id": "D2seYH9Z0W75"
      }
    },
    {
      "cell_type": "markdown",
      "source": [
        "###Mia implementazione con Gradient Descent"
      ],
      "metadata": {
        "id": "bPo6_wi42EzW"
      }
    },
    {
      "cell_type": "code",
      "source": [
        "myModel=LinearRegression(num_iter=1000, learning_rate=0.01, regolarizzation='L1')\n",
        "myModel.fit(x_train, y_train)\n",
        "\n",
        "print('Mia implemntazione: Linear Regression con Lasso Regolarization con gradient descent')\n",
        "print(f'error_test_L1= {mean_squared_error(y_test, myModel.predict(x_test), squared=False)}')\n"
      ],
      "metadata": {
        "colab": {
          "base_uri": "https://localhost:8080/"
        },
        "id": "8fIhVvKo2MaY",
        "outputId": "81042d9d-cb9c-46f2-dacc-e37a9a13ac20"
      },
      "execution_count": null,
      "outputs": [
        {
          "output_type": "stream",
          "name": "stdout",
          "text": [
            "error_test_L1= 8324.65661985011\n"
          ]
        }
      ]
    },
    {
      "cell_type": "markdown",
      "source": [
        "###Implementazione con Scikit-Learn"
      ],
      "metadata": {
        "id": "R6tDTEHs2hNJ"
      }
    },
    {
      "cell_type": "code",
      "source": [
        "from sklearn.linear_model import Lasso\n",
        "lasso = Lasso(alpha=0.01, max_iter=1000)\n",
        "lasso.fit(x_train, y_train)\n",
        "\n",
        "print('Scikit-Learn: Linear regression with Lasso Regolarization')\n",
        "print(f'error_test_L1_sklearn= {mean_squared_error(y_test, lasso.predict(x_test), squared=False)}')\n"
      ],
      "metadata": {
        "colab": {
          "base_uri": "https://localhost:8080/"
        },
        "id": "oB7H7vA62kpx",
        "outputId": "af9e8541-2923-46cc-c038-cf6d46123ec8"
      },
      "execution_count": null,
      "outputs": [
        {
          "output_type": "stream",
          "name": "stdout",
          "text": [
            "error_test_L1_sklearn= 8264.635666708487\n"
          ]
        },
        {
          "output_type": "stream",
          "name": "stderr",
          "text": [
            "/usr/local/lib/python3.9/dist-packages/sklearn/linear_model/_coordinate_descent.py:631: ConvergenceWarning: Objective did not converge. You might want to increase the number of iterations, check the scale of the features or consider increasing regularisation. Duality gap: 2.345e+12, tolerance: 4.799e+08\n",
            "  model = cd_fast.enet_coordinate_descent(\n"
          ]
        }
      ]
    }
  ],
  "metadata": {
    "colab": {
      "provenance": [],
      "include_colab_link": true
    },
    "kernelspec": {
      "display_name": "Python 3",
      "name": "python3"
    },
    "language_info": {
      "name": "python"
    }
  },
  "nbformat": 4,
  "nbformat_minor": 0
}