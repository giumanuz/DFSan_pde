{
  "cells": [
    {
      "cell_type": "markdown",
      "metadata": {
        "id": "view-in-github",
        "colab_type": "text"
      },
      "source": [
        "<a href=\"https://colab.research.google.com/github/giumanuz/DFSan_pde/blob/main/Copia_di_Homework_Giulio_Manuzzi.ipynb\" target=\"_parent\"><img src=\"https://colab.research.google.com/assets/colab-badge.svg\" alt=\"Open In Colab\"/></a>"
      ]
    },
    {
      "cell_type": "markdown",
      "metadata": {
        "id": "TspH1wJmAkdk"
      },
      "source": [
        "### For the homeworks we are going to use the \"[Online News Popularity Data Set](https://archive.ics.uci.edu/ml/datasets/Online+News+Popularity#)\"\n",
        "\n",
        "The dataset can be used both for regression and classification tasks.\n",
        "\n",
        "#### Source:\n",
        "\n",
        "Kelwin Fernandes INESC TEC, Porto, Portugal/Universidade do Porto, Portugal.\n",
        "Pedro Vinagre ALGORITMI Research Centre, Universidade do Minho, Portugal\n",
        "Paulo Cortez ALGORITMI Research Centre, Universidade do Minho, Portugal\n",
        "Pedro Sernadela Universidade de Aveiro\n",
        "\n",
        "#### Data Set Information:\n",
        "\n",
        "* The articles were published by Mashable (www.mashable.com) and their content as the rights to reproduce it belongs to them. Hence, this dataset does not share the original content but some statistics associated with it. The original content be publicly accessed and retrieved using the provided urls.\n",
        "* Acquisition date: January 8, 2015\n",
        "* The estimated relative performance values were estimated by the authors using a Random Forest classifier and a rolling windows as assessment method. See their article for more details on how the relative performance values were set.\n",
        "\n",
        "Attribute Information:\n",
        "\n",
        "Number of Attributes: 61 (58 predictive attributes, 2 non-predictive, 1 goal field)\n",
        "\n",
        "Attribute Information:\n",
        "0. url: URL of the article (non-predictive)\n",
        "1. timedelta: Days between the article publication and the dataset acquisition (non-predictive)\n",
        "2. n_tokens_title: Number of words in the title\n",
        "3. n_tokens_content: Number of words in the content\n",
        "4. n_unique_tokens: Rate of unique words in the content\n",
        "5. n_non_stop_words: Rate of non-stop words in the content\n",
        "6. n_non_stop_unique_tokens: Rate of unique non-stop words in the content\n",
        "7. num_hrefs: Number of links\n",
        "8. num_self_hrefs: Number of links to other articles published by Mashable\n",
        "9. num_imgs: Number of images\n",
        "10. num_videos: Number of videos\n",
        "11. average_token_length: Average length of the words in the content\n",
        "12. num_keywords: Number of keywords in the metadata\n",
        "13. data_channel_is_lifestyle: Is data channel 'Lifestyle'?\n",
        "14. data_channel_is_entertainment: Is data channel 'Entertainment'?\n",
        "15. data_channel_is_bus: Is data channel 'Business'?\n",
        "16. data_channel_is_socmed: Is data channel 'Social Media'?\n",
        "17. data_channel_is_tech: Is data channel 'Tech'?\n",
        "18. data_channel_is_world: Is data channel 'World'?\n",
        "19. kw_min_min: Worst keyword (min. shares)\n",
        "20. kw_max_min: Worst keyword (max. shares)\n",
        "21. kw_avg_min: Worst keyword (avg. shares)\n",
        "22. kw_min_max: Best keyword (min. shares)\n",
        "23. kw_max_max: Best keyword (max. shares)\n",
        "24. kw_avg_max: Best keyword (avg. shares)\n",
        "25. kw_min_avg: Avg. keyword (min. shares)\n",
        "26. kw_max_avg: Avg. keyword (max. shares)\n",
        "27. kw_avg_avg: Avg. keyword (avg. shares)\n",
        "28. self_reference_min_shares: Min. shares of referenced articles in Mashable\n",
        "29. self_reference_max_shares: Max. shares of referenced articles in Mashable\n",
        "30. self_reference_avg_sharess: Avg. shares of referenced articles in Mashable\n",
        "31. weekday_is_monday: Was the article published on a Monday?\n",
        "32. weekday_is_tuesday: Was the article published on a Tuesday?\n",
        "33. weekday_is_wednesday: Was the article published on a Wednesday?\n",
        "34. weekday_is_thursday: Was the article published on a Thursday?\n",
        "35. weekday_is_friday: Was the article published on a Friday?\n",
        "36. weekday_is_saturday: Was the article published on a Saturday?\n",
        "37. weekday_is_sunday: Was the article published on a Sunday?\n",
        "38. is_weekend: Was the article published on the weekend?\n",
        "39. LDA_00: Closeness to LDA topic 0\n",
        "40. LDA_01: Closeness to LDA topic 1\n",
        "41. LDA_02: Closeness to LDA topic 2\n",
        "42. LDA_03: Closeness to LDA topic 3\n",
        "43. LDA_04: Closeness to LDA topic 4\n",
        "44. global_subjectivity: Text subjectivity\n",
        "45. global_sentiment_polarity: Text sentiment polarity\n",
        "46. global_rate_positive_words: Rate of positive words in the content\n",
        "47. global_rate_negative_words: Rate of negative words in the content\n",
        "48. rate_positive_words: Rate of positive words among non-neutral tokens\n",
        "49. rate_negative_words: Rate of negative words among non-neutral tokens\n",
        "50. avg_positive_polarity: Avg. polarity of positive words\n",
        "51. min_positive_polarity: Min. polarity of positive words\n",
        "52. max_positive_polarity: Max. polarity of positive words\n",
        "53. avg_negative_polarity: Avg. polarity of negative words\n",
        "54. min_negative_polarity: Min. polarity of negative words\n",
        "55. max_negative_polarity: Max. polarity of negative words\n",
        "56. title_subjectivity: Title subjectivity\n",
        "57. title_sentiment_polarity: Title polarity\n",
        "58. abs_title_subjectivity: Absolute subjectivity level\n",
        "59. abs_title_sentiment_polarity: Absolute polarity level\n",
        "60. shares: Number of shares (target)\n",
        "\n",
        "\n",
        "The first two columns (url and time_delta) are non-predictive and should be ignored\n",
        "\n",
        "The last column **shares** contains the value to predict.\n",
        "\n",
        "### Regression\n",
        "In the case of regression we want to predict the value of the share column.\n",
        "\n",
        "### Classification\n",
        "In the case of classification we want to predict one of two classes:\n",
        "\n",
        "* *low* -- shares < 1,400\n",
        "* *high* -- shares >= 1,400\n",
        "\n",
        "### Metrics\n",
        "\n",
        "#### Regression\n",
        "To evaluate how good we are doing on the **regression** task we will use the Root Mean Squared Error (RMSE). RMSE is given by\n",
        "\n",
        "$$\n",
        "\\sqrt{\\frac{1}{n}\\sum\\limits_{i=1}^{n}{\\Big(d_i -f_i\\Big)^2}}\n",
        "$$\n",
        "\n",
        "\n",
        "where:\n",
        "\n",
        "* $n$ is the number of test samples\n",
        "* $d_i$ is the ground truth value of the i-th sample\n",
        "* $f_i$ is the predicted value of the i-th sample\n",
        "\n",
        "\n",
        "#### Classification\n",
        "To evaluate how good we are doing on the **classification** task we will use the accuracy metrics. Accuracy is given by\n",
        "\n",
        "$$\n",
        "\\frac{TP+TN}{TP+TN+FP+FN}\n",
        "$$\n",
        "\n",
        "where:\n",
        "\n",
        "* TP is the number of *correctly* classified positive samples\n",
        "* TN is the number of *correctly* classified negative samples\n",
        "* FP is the number of *incorrectly* classified positive samples\n",
        "* FN is the number of *incorrectly* classified negative samples"
      ]
    },
    {
      "cell_type": "code",
      "execution_count": 4,
      "metadata": {
        "colab": {
          "base_uri": "https://localhost:8080/"
        },
        "id": "oesd6_bYijRo",
        "outputId": "5f56b948-5184-4403-e57a-80a80fae4211"
      },
      "outputs": [
        {
          "output_type": "stream",
          "name": "stdout",
          "text": [
            "--2023-04-16 19:33:37--  https://archive.ics.uci.edu/ml/machine-learning-databases/00332/OnlineNewsPopularity.zip\n",
            "Resolving archive.ics.uci.edu (archive.ics.uci.edu)... 128.195.10.252\n",
            "Connecting to archive.ics.uci.edu (archive.ics.uci.edu)|128.195.10.252|:443... connected.\n",
            "HTTP request sent, awaiting response... 200 OK\n",
            "Length: 7476401 (7.1M) [application/x-httpd-php]\n",
            "Saving to: ‘OnlineNewsPopularity.zip’\n",
            "\n",
            "OnlineNewsPopularit 100%[===================>]   7.13M  15.8MB/s    in 0.5s    \n",
            "\n",
            "2023-04-16 19:33:38 (15.8 MB/s) - ‘OnlineNewsPopularity.zip’ saved [7476401/7476401]\n",
            "\n"
          ]
        }
      ],
      "source": [
        "!wget https://archive.ics.uci.edu/ml/machine-learning-databases/00332/OnlineNewsPopularity.zip"
      ]
    },
    {
      "cell_type": "code",
      "execution_count": 5,
      "metadata": {
        "colab": {
          "base_uri": "https://localhost:8080/"
        },
        "id": "gmad6QdZ_nFR",
        "outputId": "daa8b2fc-5bfe-4763-b43f-776430723b11"
      },
      "outputs": [
        {
          "output_type": "stream",
          "name": "stdout",
          "text": [
            "Archive:  OnlineNewsPopularity.zip\n",
            "   creating: OnlineNewsPopularity/\n",
            "  inflating: OnlineNewsPopularity/OnlineNewsPopularity.names  \n",
            "  inflating: OnlineNewsPopularity/OnlineNewsPopularity.csv  \n"
          ]
        }
      ],
      "source": [
        "!unzip OnlineNewsPopularity.zip"
      ]
    },
    {
      "cell_type": "code",
      "execution_count": 6,
      "metadata": {
        "id": "8eW4t_c6ACcm"
      },
      "outputs": [],
      "source": [
        "import pandas as pd\n",
        "import numpy as np\n",
        "import matplotlib.pyplot as plt"
      ]
    },
    {
      "cell_type": "markdown",
      "source": [
        "Format properly the names of the columns and remove the first two columns"
      ],
      "metadata": {
        "id": "yXCX_LpFedtj"
      }
    },
    {
      "cell_type": "code",
      "execution_count": 7,
      "metadata": {
        "id": "1mxntjhmAH0D"
      },
      "outputs": [],
      "source": [
        "df = pd.read_csv('OnlineNewsPopularity/OnlineNewsPopularity.csv')\n",
        "df = df.rename(columns=lambda x: x.strip())\n",
        "df = df.iloc[: , 2:]"
      ]
    },
    {
      "cell_type": "markdown",
      "source": [
        "##Preparazione dei dati"
      ],
      "metadata": {
        "id": "4QNib7H3Eu8I"
      }
    },
    {
      "cell_type": "code",
      "source": [
        "from sklearn.model_selection import train_test_split\n",
        "\n",
        "matrix=np.array(df)\n",
        "x=matrix[: , :-1]\n",
        "y=np.array([elem >= 1400 for elem in matrix[:, -1]])\n",
        "\n",
        "x_train, x_test, y_train, y_test=train_test_split(x,y, test_size=0.2, random_state=1)\n",
        "\n",
        "x_train, x_val, y_train, y_val=train_test_split(x_train,y_train, test_size=0.2, random_state=1)"
      ],
      "metadata": {
        "id": "FiIezAzAEx3C"
      },
      "execution_count": 8,
      "outputs": []
    },
    {
      "cell_type": "markdown",
      "source": [
        "#Decision Tree"
      ],
      "metadata": {
        "id": "Fn8SZbkbNk26"
      }
    },
    {
      "cell_type": "markdown",
      "source": [
        "Un Decision Tree è un algoritmo di **apprendimento supervisionato** utilizzato nell'ambito del machine learning.\n",
        "\n",
        "Il decision tree rappresenta un **modello predittivo** che, a partire da un insieme di dati di training, costruisce un albero di decisione rappresentato da una serie di *decisioni* per giungere a una predizione.\n",
        "\n",
        "I valori di input e output possono essere discreti o continui, ma nella mia implementazione considerero' solo valori discreti in input e valori booleani in output (YES in caso di esito positivo, NO in caso di esito negativo).\n",
        "\n",
        "##Costruzione del DT\n",
        "\n",
        "Il processo di costruzione del decision tree prevede la selezione della feature più importante per separare i dati in sottoinsiemi omogenei, in modo da ridurre l'entropia all'interno di ogni sottoinsieme. \n",
        "Sia $B(q)$ l'entropia di una variabile aleatoria booleana che eè vera con probabilita' $q$:\n",
        "\n",
        "$$\n",
        "B(q)=-(q \\cdot log_2q + (1-q)log_2(1-q))\n",
        "$$\n",
        "\n",
        "Se un training set contiene $p$ examples positivi ed $n$ examples negativi, allora l'entropia della variabile in output nell'intero set è :\n",
        "\n",
        "$$\n",
        "H(Output)=B(\\frac{p}{p+n})\n",
        "$$\n",
        "\n",
        "Un attributo A con *d* distinti valori divide il training set E in $E_1$, $E_2$, ... , $E_d$ sottoinsiemi.\n",
        "Ciascun sottoinsieme $E_k$ ha $p_k$ esempi positivi e $n_k$ esempi negativi. Un esempio scelto a caso dal training set ha il valore k-esimo per l'attributo (ovvero, è in E$_k$ con probabilità $\\frac{p_k + n_k}{p + n}$), quindi l'entropia attesa rimanente dopo il test dell'attributo A è:\n",
        "\n",
        "$$\n",
        "Remainder(A) = \\sum\\limits_{k=1}^{d}{\\frac{p_k + n_k}{p + n}B(\\frac{p_k}{p_k+n_k})}\n",
        "$$\n",
        "\n",
        "\n",
        "Per cercare, quindi, il miglior attributo A su cui splittare il dataset, bisogna trovare la feature con il **Gain maggiore**:\n",
        "\n",
        "$$\n",
        "Gain(A)=\\frac{p}{p+n} - Remainder(A)\n",
        "$$\n",
        "\n",
        "L'algoritmo da noi studiato, come in genere quelli basati su alberi, e' di tipo ricorsivo.\n",
        "Ci sono solamente 4 casi base:\n",
        "\n",
        "* Se i restanti examples sono tutti positivi (o tutti negativi), allora abbiamo finito: possiamo rispondere Sì o No.\n",
        "* Se non sono rimasti examples, significa che non è stato osservato alcun example per questa combinazione di valori di attributo e restituiamo il valore di output più comune dall'insieme di esempi utilizzati nella costruzione del genitore del nodo (*majority value*). \n",
        "* Se non sono rimasti attributi, ma examples sia positivi che negativi, significa che questi esempi hanno esattamente la stessa descrizione, ma classificazioni diverse.\n",
        "Questo può accadere perché: c'è un errore o un **rumore** nei dati; perché il dominio è non-deterministico; perché non possiamo osservare un attributo che distinguerebbe gli examples.\n",
        "* Se ci sono alcuni esempi positivi e alcuni negativi, si sceglie l'attributo migliore per dividerli (passo ricorsivo). Sulla base di questo attributo si splittano gli examples rimasti in due insiemi secondo il metodo della meduiana: gli examples con il corrispondente valore della feature minore del valore della mediana costituiranno gli examples che serviranno da input alla funzione ricorsiva sul figlio sinistro: viceversa, quelli con valore maggiore o uguale costituiranno l'input al passo ricorsivo sul figlio destro.\n",
        "\n",
        "\n",
        "Una volta costruito il decision tree, esso può essere utilizzato per effettuare predizioni su nuovi dati di test, seguendo il percorso dell'albero a partire dalla radice fino ad arrivare ad una foglia che rappresenta la predizione finale.\n",
        "\n",
        "In sintesi, l'albero decisionale rappresenta un modello intuitivo e interpretabile che permette di effettuare predizioni basate su regole semplici. Tuttavia, è importante considerare che la scelta delle feature e l'ordine di presentazione possono influire notevolmente sulla qualità delle predizioni e sulla robustezza del modello."
      ],
      "metadata": {
        "id": "95J9ybo8NrpQ"
      }
    },
    {
      "cell_type": "markdown",
      "source": [
        "##Mia implementazione"
      ],
      "metadata": {
        "id": "Cl_R_buB1ese"
      }
    },
    {
      "cell_type": "code",
      "source": [
        "from sklearn.model_selection import train_test_split\n",
        "from sklearn.tree import DecisionTreeClassifier\n",
        "from sklearn import tree\n",
        "from sklearn import metrics\n",
        "from sklearn.metrics import classification_report\n",
        "from sklearn.tree import export_graphviz\n",
        "import numpy as np\n",
        "from statistics import median\n",
        "import math\n",
        "\n",
        "\n",
        "class Node:\n",
        "\n",
        "    def __init__(self, feature, median, left, right, value=None):\n",
        "        self.feature = feature\n",
        "        self.median = median\n",
        "        self.left = left\n",
        "        self.right = right\n",
        "        self.value = value\n",
        "    \n",
        "    def isLeaf(self):\n",
        "        return self.value!=None\n",
        "    \n",
        "    def getFeature(self):\n",
        "        return self.feature\n",
        "    \n",
        "    def getMedian(self):\n",
        "        return self.median\n",
        "    \n",
        "    def getLeft(self):\n",
        "        return self.left\n",
        "    \n",
        "    def getRight(self):\n",
        "        return self.right\n",
        "    \n",
        "    def getValue(self):\n",
        "        return self.value\n",
        "    \n",
        "class Tree:\n",
        "\n",
        "    def __init__(self, height):\n",
        "        self.root=None \n",
        "        self.height=height\n",
        "\n",
        "    def entropy(self, p):\n",
        "        if p==0 or p==1:\n",
        "            return 0\n",
        "        return -p*math.log2(p) - (1-p)*math.log2((1-p))\n",
        "\n",
        "    def calcolaSXDX(self, feature, examples):\n",
        "        leftPositives = 0\n",
        "        rightPositives = 0\n",
        "        leftElementsCount = 0\n",
        "        rightElementsCount = 0\n",
        "        mediana = median([elem[feature] for elem in examples])\n",
        "        \n",
        "        for i in range(len(examples)):\n",
        "            if examples[i][feature] <= mediana:\n",
        "                leftElementsCount += 1\n",
        "                if examples[i][-1] == True:\n",
        "                    leftPositives += 1\n",
        "            else:\n",
        "                rightElementsCount += 1\n",
        "                if examples[i][-1] == True:\n",
        "                    rightPositives += 1\n",
        "        return leftPositives, rightPositives, leftElementsCount, rightElementsCount\n",
        "\n",
        "    def remainder(self, feature, examples):\n",
        "        leftPositives, rightPositives , leftElementsCount, rightElementsCount = self.calcolaSXDX(feature, examples)\n",
        "\n",
        "        if (leftElementsCount==0 and rightElementsCount==0 or leftPositives ==0 and rightPositives ==0):\n",
        "            return 0\n",
        "        elif (leftElementsCount==0 or leftPositives ==0):\n",
        "            return (rightElementsCount/(leftElementsCount+rightElementsCount))*self.entropy(rightPositives/rightElementsCount)\n",
        "        elif (rightElementsCount==0) or rightPositives ==0:\n",
        "            return (leftElementsCount/(leftElementsCount+rightElementsCount))*self.entropy(leftPositives/leftElementsCount)\n",
        "\n",
        "        return (leftElementsCount/(leftElementsCount+rightElementsCount))*self.entropy(leftPositives/leftElementsCount) + (rightElementsCount/(leftElementsCount+rightElementsCount))*self.entropy(rightPositives/rightElementsCount)\n",
        "\n",
        "    def splitFeature(self, feature, examples):\n",
        "        mediana= median([elem[feature] for elem in examples])\n",
        "    \n",
        "        sxList=[]\n",
        "        dxList=[]\n",
        "        for i in range(len(examples)):\n",
        "            if examples[i][feature] <= mediana:\n",
        "                sxList.append(examples[i])\n",
        "            else:\n",
        "                dxList.append(examples[i])\n",
        "        return mediana, sxList, dxList\n",
        "\n",
        "    def gain(self, entropy, feature, examples):\n",
        "        return entropy - self.remainder(feature, examples)\n",
        "\n",
        "    def pluralityValue(self, examples):\n",
        "        numPos = 0\n",
        "        for i in range(len(examples)):\n",
        "            if examples[i][-1] == True:\n",
        "                numPos += 1\n",
        "        if numPos > len(examples)/2:\n",
        "            return Node(None, None, None, None, True)\n",
        "        else:\n",
        "            return Node(None, None, None, None, False)\n",
        "        \n",
        "    def allSameClass(self, examples):\n",
        "        for i in range(len(examples)-1):\n",
        "            if examples[i][-1] != examples[i+1][-1]:\n",
        "                return False\n",
        "        return True\n",
        "\n",
        "    def fit(self, examples):\n",
        "        features=[i for i in range(len(examples[0])-1)]\n",
        "        self.root=self.learnDecisionTree(examples, features, examples, self.height)\n",
        "\n",
        "\n",
        "    def learnDecisionTree(self, examples, attributes, parent_examples, height):\n",
        "\n",
        "        if len(examples) == 0:\n",
        "            return self.pluralityValue(parent_examples)\n",
        "        elif self.allSameClass(examples):\n",
        "            return Node(None, None, None, None, examples[0][-1])\n",
        "        elif len(attributes) == 0 or height==0:\n",
        "            return self.pluralityValue(examples)\n",
        "        else:\n",
        "            bestFeature = self.getBestFeature(examples, attributes)\n",
        "\n",
        "            mediana, sx, dx=self.splitFeature(bestFeature, examples)\n",
        "\n",
        "            leftAttributes=attributes.copy()\n",
        "            leftAttributes.remove(bestFeature)\n",
        "            nodoSx=self.learnDecisionTree(sx, leftAttributes, examples, height-1)\n",
        "\n",
        "            rightAttributes=attributes.copy()\n",
        "            rightAttributes.remove(bestFeature)\n",
        "            nodoDx=self.learnDecisionTree(dx, rightAttributes, examples, height-1)\n",
        "\n",
        "            nodo = Node(bestFeature, mediana, nodoSx, nodoDx)\n",
        "            return nodo\n",
        "\n",
        "    def getBestFeature(self, examples, attributes):\n",
        "        positiveCount=0\n",
        "        for i in range(len(examples)):\n",
        "            if examples[i][-1]==True:\n",
        "                positiveCount+=1\n",
        "        entropy=self.entropy(positiveCount/len(examples))\n",
        "        maxGain=None\n",
        "        bestFeature=0\n",
        "        for feature in attributes:\n",
        "            gainFeature=self.gain(entropy, feature, examples)\n",
        "            if maxGain==None or gainFeature>maxGain :\n",
        "                maxGain=gainFeature\n",
        "                bestFeature=feature\n",
        "        return bestFeature\n",
        "\n",
        "    def predict(self, x, nodo=None):\n",
        "        if self.root == None:\n",
        "            raise Exception(\"Il modello non è stato ancora addestrato\")\n",
        "        else:\n",
        "            if nodo==None:\n",
        "                nodo=self.root\n",
        "            if nodo.isLeaf():\n",
        "                return nodo.getValue()\n",
        "            else:\n",
        "                if x[nodo.getFeature()] <= nodo.getMedian():\n",
        "                    return self.predict(x, nodo.getLeft())\n",
        "                else:\n",
        "                    return self.predict(x, nodo.getRight())\n",
        "            \n",
        "    def accuracy(self, x_test, y_test):\n",
        "        count=0\n",
        "        for i in range(len(x_test)):\n",
        "            if self.predict(x_test[i])==y_test[i]:\n",
        "                count+=1\n",
        "        return count/len(x_test)\n"
      ],
      "metadata": {
        "id": "OYBciQdPXmnS"
      },
      "execution_count": 6,
      "outputs": []
    },
    {
      "cell_type": "markdown",
      "source": [
        "###Training Validation Set"
      ],
      "metadata": {
        "id": "UAl91QWmmYXF"
      }
    },
    {
      "cell_type": "code",
      "source": [
        "attributes=[i for i in range(len(x_train[0]))]\n",
        "\n",
        "my_x_train=x_train.tolist()\n",
        "for i in range(len(my_x_train)):\n",
        "    my_x_train[i].append(y_train[i])\n",
        "\n",
        "plot_x = []\n",
        "plot_y = []\n",
        "for i in range(15):\n",
        "    myDt = Tree(height=i)\n",
        "    myDt.fit(my_x_train)\n",
        "    current_accuracy = myDt.accuracy(x_val,  y_val)*100\n",
        "    print(f'Accuracy DT con altezza {i} = {current_accuracy}%')\n",
        "    plot_x.append(i)\n",
        "    plot_y.append(current_accuracy)\n",
        "\n",
        "plt.plot(plot_x, plot_y)\n",
        "plt.xlabel('Altezza')\n",
        "plt.ylabel('Accuracy')\n",
        "plt.show()"
      ],
      "metadata": {
        "id": "MT4bVinc0JLz",
        "colab": {
          "base_uri": "https://localhost:8080/",
          "height": 633
        },
        "outputId": "1bfc9637-d0b9-49cc-b8a6-f2d043dde269"
      },
      "execution_count": 7,
      "outputs": [
        {
          "output_type": "stream",
          "name": "stdout",
          "text": [
            "Accuracy DT con altezza 0 = 52.7825949865994%\n",
            "Accuracy DT con altezza 1 = 58.836512691155605%\n",
            "Accuracy DT con altezza 2 = 62.60444584581428%\n",
            "Accuracy DT con altezza 3 = 63.9760365757528%\n",
            "Accuracy DT con altezza 4 = 64.16522150402018%\n",
            "Accuracy DT con altezza 5 = 64.4647643071102%\n",
            "Accuracy DT con altezza 6 = 64.81160334226706%\n",
            "Accuracy DT con altezza 7 = 64.3386410215986%\n",
            "Accuracy DT con altezza 8 = 64.71701087813338%\n",
            "Accuracy DT con altezza 9 = 63.50307425508434%\n"
          ]
        },
        {
          "output_type": "display_data",
          "data": {
            "text/plain": [
              "<Figure size 640x480 with 1 Axes>"
            ],
            "image/png": "[encoded data removed]"
          },
          "metadata": {}
        }
      ]
    },
    {
      "cell_type": "markdown",
      "source": [
        "###Test set"
      ],
      "metadata": {
        "id": "5-5-yKrpmkIC"
      }
    },
    {
      "cell_type": "code",
      "source": [
        "best_index = np.argmax(plot_y)\n",
        "myDT = Tree(height=best_index)\n",
        "\n",
        "my_x_train=x_train.tolist()\n",
        "for i in range(len(my_x_train)):\n",
        "    my_x_train[i].append(y_train[i])\n",
        "\n",
        "\n",
        "myDT.fit(my_x_train)\n",
        "print('Mia implementazione Decision Tree')\n",
        "print(f'Accuracy = {myDT.accuracy(x_test,  y_test )*100}%')"
      ],
      "metadata": {
        "colab": {
          "base_uri": "https://localhost:8080/"
        },
        "id": "rDcMeqbomoBL",
        "outputId": "0b14e715-aedb-4f2a-de7b-1be7eda26534"
      },
      "execution_count": 16,
      "outputs": [
        {
          "output_type": "stream",
          "name": "stdout",
          "text": [
            "Mia implementazione Decision Tree\n",
            "Accuracy = 64.472190692395%\n"
          ]
        }
      ]
    },
    {
      "cell_type": "markdown",
      "source": [
        "###Implementazione con Scikit-Learn"
      ],
      "metadata": {
        "id": "aLPtT8om1sIj"
      }
    },
    {
      "cell_type": "code",
      "source": [
        "my_x_test=x_test.copy()\n",
        "\n",
        "scikit=tree.DecisionTreeClassifier(criterion='entropy', max_depth=best_index)\n",
        "scikit=scikit.fit(x_train, y_train)\n",
        "\n",
        "print('Scikit-learn Decision Tree')\n",
        "print(f'Accuracy = {scikit.score(my_x_test, y_test)*100}%')"
      ],
      "metadata": {
        "id": "H9JZ4iyA-n2I",
        "colab": {
          "base_uri": "https://localhost:8080/"
        },
        "outputId": "24c1bfbd-ffd1-42be-d56c-8c27e2cba048"
      },
      "execution_count": 35,
      "outputs": [
        {
          "output_type": "stream",
          "name": "stdout",
          "text": [
            "Scikit-learn Decision Tree\n",
            "Accuracy = 64.20734014377601%\n"
          ]
        }
      ]
    },
    {
      "cell_type": "markdown",
      "source": [
        "#Linear Regression and Classification"
      ],
      "metadata": {
        "id": "ObwrK7qp2i1r"
      }
    },
    {
      "cell_type": "markdown",
      "source": [
        "La regressione e classificazione lineare sono due tecniche del machine learning utilizzate per effettuare predizioni su dati numerici.\n",
        "\n",
        "La regressione lineare è un processo di determinazione di una funzione lineare che approssima al meglio la relazione tra una variabile dipendente $Y$ ed una o piu' variabili indipendenti $X_1, X_2, ... , X_k$. \n",
        "\n",
        "La classificazione lineare, invece, ha come obiettivo quello di utilizzare le caratteristiche di un oggetto per identificare a quale classe (o gruppo) appartiene.\n",
        "\n",
        "In entrambi i casi, la \"lineare\" nella regressione e classificazione lineare si riferisce alla funzione matematica utilizzata per modellare la relazione tra le variabili di input e output.\n"
      ],
      "metadata": {
        "id": "V00Ota4Z3RYv"
      }
    },
    {
      "cell_type": "markdown",
      "source": [
        "Una funzione lineare con input x e output y ha la forma:\n",
        "$$\n",
        "y = h(x) = w_1 x +  w_0\n",
        "$$\n",
        "dove $w_1$ e $w_0$ sono dei coefficienti che devono essere imparati dal modello. Possiamo quindi esprimere il modello come il prodotto scalare tra il vettore dei pesi $w = [w_0, w_1]^T$ e il vettore delle features di un sample $x = [1, x]^T$.\n",
        "\n",
        "Il nostro obiettivo e' trovare i coefficienti $w_1$ e $w_0$ ottimi tali che la funzione di loss sia minima. \n",
        "\n",
        "$$\n",
        "Loss(h_w) = \\sum\\limits_{j=1}^{N}(y_i-(w_1x_j+w_0))^2\n",
        "$$\n",
        "\n",
        "Quindi si impongono le derivate parziali rispetto ai coefficienti uguali a zero:\n",
        "\n",
        "$$\n",
        "\\begin{cases}\n",
        "\\frac{\\partial}{\\partial w_0} \\sum\\limits_{j=1}^{N}(y_i-(w_1x_j+w_0))^2 &= 0 \\\\\n",
        "\\frac{\\partial}{\\partial w_1} \\sum\\limits_{j=1}^{N}(y_i-(w_1x_j+w_0))^2 &= 0 \\\\\n",
        "\\end{cases}\n",
        "$$\n",
        "Dove l'unica soluzione e':\n",
        "\n",
        "$$\n",
        "\\begin{cases}\n",
        "w_1 = \\frac {N( \\sum x_j y_j) - ( \\sum x_j)( \\sum y_j)}{N( \\sum x_j^2) - ( \\sum x_j)^2} \\\\\n",
        "w_0 = \\frac {\\sum y_j - w_1 \\sum x_j}{N}\n",
        "\\end{cases}\n",
        "$$"
      ],
      "metadata": {
        "id": "V8iYO48a6mGu"
      }
    },
    {
      "cell_type": "markdown",
      "source": [
        "##Preparazione dei dati"
      ],
      "metadata": {
        "id": "FE3HVNovwUID"
      }
    },
    {
      "cell_type": "code",
      "source": [
        "matrice=np.array(df)\n",
        "x=matrice[: , :-1]\n",
        "x=(x-x.mean(axis=0))/x.std(axis=0)\n",
        "y=matrice[: , -1]\n",
        "\n",
        "x_train, x_test, y_train, y_test=train_test_split(x,y, test_size=0.2, random_state=1)\n",
        "x_train, x_val, y_train, y_val=train_test_split(x_train,y_train, test_size=0.2, random_state=1)\n"
      ],
      "metadata": {
        "id": "NhFfyQP4wYOn"
      },
      "execution_count": 8,
      "outputs": []
    },
    {
      "cell_type": "markdown",
      "source": [
        "##Regressione Lineare senza regolarizzaione"
      ],
      "metadata": {
        "id": "fWN8-nhSIQGa"
      }
    },
    {
      "cell_type": "markdown",
      "source": [
        "###Mia implementazione (con formula chiusa)"
      ],
      "metadata": {
        "id": "t1QjKLmkAUHI"
      }
    },
    {
      "cell_type": "markdown",
      "source": [
        "Il codice seguente implementa anche la regressione lineare senza regolarizzazione in cui uso la formula chiusa per il vettore dei pesi (Equazione normale):\n",
        "\n",
        "$$\n",
        "w^* = (X^TX)^{-1}X^Ty\n",
        "$$"
      ],
      "metadata": {
        "id": "Hiz9SjCNuvkX"
      }
    },
    {
      "cell_type": "code",
      "source": [
        "from sklearn.metrics import mean_squared_error\n",
        "\n",
        "class LinearRegression:\n",
        "    def __init__(self):\n",
        "        self.w = None\n",
        "        self.b = None\n",
        "\n",
        "    def fit(self, x, y):\n",
        "        x = np.insert(x, 0, 1, axis=1)\n",
        "        self.w = np.linalg.inv(x.T.dot(x)).dot(x.T).dot(y)\n",
        "        self.b = self.w[0]\n",
        "        self.w = self.w[1:]\n",
        "\n",
        "    def predict(self, x):\n",
        "        return x.dot(self.w) + self.b"
      ],
      "metadata": {
        "id": "CFIXRBsd63Cl"
      },
      "execution_count": 9,
      "outputs": []
    },
    {
      "cell_type": "code",
      "source": [
        "myModel=LinearRegression()\n",
        "myModel.fit(x_train, y_train)\n",
        "\n",
        "print('Mia implemntazione: Linear Regression senza regolarizzazione con formula chiusa')\n",
        "print(f'error_test= {mean_squared_error(y_test, myModel.predict(x_test), squared=False)}')"
      ],
      "metadata": {
        "colab": {
          "base_uri": "https://localhost:8080/"
        },
        "id": "ZmFY42a-DGw-",
        "outputId": "dd456ff2-3077-42ef-91e3-cde4c83436d9"
      },
      "execution_count": 10,
      "outputs": [
        {
          "output_type": "stream",
          "name": "stdout",
          "text": [
            "Mia implemntazione: Linear Regression senza regolarizzazione con formula chiusa\n",
            "error_test= 8333.573874537939\n"
          ]
        }
      ]
    },
    {
      "cell_type": "markdown",
      "source": [
        "###Scikit-Learn"
      ],
      "metadata": {
        "id": "QUC6GlQBAjKu"
      }
    },
    {
      "cell_type": "code",
      "source": [
        "from sklearn.linear_model import SGDRegressor, SGDClassifier\n",
        "\n",
        "scikit=SGDRegressor(max_iter=1000, penalty=None, learning_rate='constant', shuffle=False, eta0=0.00001, early_stopping=False)\n",
        "scikit.fit(x_train, y_train)\n",
        "\n",
        "print('Scikit-Learn: Linear regression senza regolarizzazione')\n",
        "print(f'error_test= {mean_squared_error(y_test, scikit.predict(x_test), squared=False)}')"
      ],
      "metadata": {
        "colab": {
          "base_uri": "https://localhost:8080/"
        },
        "id": "yEnvOt60C-sm",
        "outputId": "3e29d108-e662-42ac-b9f0-f60f43c9fedd"
      },
      "execution_count": 11,
      "outputs": [
        {
          "output_type": "stream",
          "name": "stdout",
          "text": [
            "Scikit-Learn: Linear regression senza regolarizzazione\n",
            "error_test= 8275.739371762584\n"
          ]
        },
        {
          "output_type": "stream",
          "name": "stderr",
          "text": [
            "/usr/local/lib/python3.9/dist-packages/sklearn/linear_model/_stochastic_gradient.py:1548: ConvergenceWarning: Maximum number of iteration reached before convergence. Consider increasing max_iter to improve the fit.\n",
            "  warnings.warn(\n"
          ]
        }
      ]
    },
    {
      "cell_type": "markdown",
      "source": [
        "### Implementazione con Gradient Descent"
      ],
      "metadata": {
        "id": "pxuRRWCFBJQC"
      }
    },
    {
      "cell_type": "markdown",
      "source": [
        "Il Gradient Descent e' un algoruitmo di ottimizzazione volto a trovare i coefficienti ottimali del modello che minimizzano la funzione di costo del modello. E' un algoritmo che funziona iterativamente aggiornando i coefficienti in base alla direzione e al valore del gradiente della funzione di costo rispetto ai coefficienti stessi. Il Learning Rate e' un iperparametro dell'algoritmo che determina quanto grande sia il passo di aggiornamento dei coefficienti ad ogni iterazione. \n",
        "\n",
        "$$\n",
        "\\begin{cases}\n",
        "w_0 \\leftarrow w_0 + \\alpha (y - h_w(x)) \\\\\n",
        "w_1 \\leftarrow w_1 + \\alpha (y - h_w(x)) \\times x\n",
        "\\end{cases}\n",
        "$$"
      ],
      "metadata": {
        "id": "EXUMoJ1bBPIb"
      }
    },
    {
      "cell_type": "code",
      "source": [
        "class LinearRegressionClassification:\n",
        "    def __init__(self, num_iter=1000, learning_rate=0.01, regolarizzation=None, regulation_parameters_L1=0.01, regulation_parameters_L2=0.01, classification=False):\n",
        "        self.weights = None\n",
        "        self.bias = None\n",
        "        self.num_iter = num_iter\n",
        "        self.learning_rate = learning_rate\n",
        "        self.regolarizzation = regolarizzation\n",
        "        self.regulation_parameters_L1 = regulation_parameters_L1\n",
        "        self.regulation_parameters_L2 = regulation_parameters_L2\n",
        "        self.classification = classification\n",
        "\n",
        "    def fit(self, X, y):\n",
        "        n_samples, n_features = X.shape\n",
        "        X = np.insert(X, 0, 1, axis=1)\n",
        "        self.weights = np.zeros(n_features+1)\n",
        "\n",
        "        for i in range(self.num_iter):\n",
        "\n",
        "            if self.classification:\n",
        "                if self.regolarizzation == 'logistic':\n",
        "                    y_predicted = [1 / (1 + math.exp(-i)) for i in np.dot(X, self.weights)]\n",
        "                else:\n",
        "                    y_predicted = [1 if i >=0 else 0 for i in np.dot(X, self.weights)]\n",
        "            else:\n",
        "                y_predicted = np.dot(X, self.weights)\n",
        "\n",
        "            \n",
        "            if self.regolarizzation == 'L1':\n",
        "                dw=(1/n_samples)*np.dot(X.T, (y_predicted-y)) + self.regulation_parameters_L1*np.sign(self.weights)\n",
        "            elif self.regolarizzation == 'L2':\n",
        "                dw=(1/n_samples)*np.dot(X.T, (y_predicted-y)) + 2* self.regulation_parameters_L2*self.weights\n",
        "            elif self.regolarizzation == 'elasticnet':\n",
        "                dw=(1/n_samples)*np.dot(X.T, (y_predicted-y)) + self.regulation_parameters_L1*np.sign(self.weights) + 2*self.regulation_parameters_L2*self.weights\n",
        "            else:\n",
        "                dw=(1/n_samples)*np.dot(X.T, (y_predicted-y))\n",
        "\n",
        "            self.weights -= self.learning_rate * dw\n",
        "\n",
        "    def predict(self, X, classification=False, logistic=False):\n",
        "        X = np.insert(X, 0, 1, axis=1)\n",
        "        if classification:\n",
        "            if logistic:\n",
        "                y_approximated = [1 / (1 + math.exp(-i)) for i in np.dot(X, self.weights)]\n",
        "                y_approximated = [1 if i >=0.5 else 0 for i in y_approximated]\n",
        "            else:\n",
        "                y_approximated = [1 if i >=0 else 0 for i in np.dot(X, self.weights)]\n",
        "        else:\n",
        "            y_approximated = np.dot(X, self.weights)\n",
        "        return y_approximated"
      ],
      "metadata": {
        "id": "NPD7V0_iPyKL"
      },
      "execution_count": 12,
      "outputs": []
    },
    {
      "cell_type": "code",
      "source": [
        "mioModello=LinearRegressionClassification(num_iter=1000, learning_rate=0.01)\n",
        "mioModello.fit(x_train, y_train)\n",
        "\n",
        "print('Mia implemntazione: Regressione Lineare senza regolarizzazione con gradient descent')\n",
        "print(f'error_test_without_regolarization= {mean_squared_error(y_test, mioModello.predict(x_test), squared=False)}')"
      ],
      "metadata": {
        "colab": {
          "base_uri": "https://localhost:8080/"
        },
        "id": "7w1W1kVy8EfX",
        "outputId": "0cacab25-3e4d-4e74-f36e-068b53433021"
      },
      "execution_count": 13,
      "outputs": [
        {
          "output_type": "stream",
          "name": "stdout",
          "text": [
            "Mia implemntazione: Regressione Lineare senza regolarizzazione con gradient descent\n",
            "error_test_without_regolarization= 8281.584927801572\n"
          ]
        }
      ]
    },
    {
      "cell_type": "markdown",
      "source": [
        "##Regressione lineare con regolarizzazione L1"
      ],
      "metadata": {
        "id": "IGanyQax0NLI"
      }
    },
    {
      "cell_type": "markdown",
      "source": [
        "Lasso Regression (least Absolute Shrinkage and Selection Operator) o $L_1$ Regolarization ha la seguente ipotesi:\n",
        "\n",
        "$$\n",
        "L(y, \\hat y) = MSE(y, \\hat y) + \\lambda L_1(w)\n",
        "$$\n",
        "dove \n",
        "$$\n",
        "L_1(w) = \\sum\\limits_{j} |{w_j}|\n",
        "$$\n",
        "e $\\lambda$ e' un iperparametro.\n",
        "\n",
        "N.B.1 esiste anche una formula chiusa per la Lasso\n",
        "\n",
        "N.B.2 tutte le implementazioni per le classificazioni e regressioni lineari fanno riferimento al codice sopra\n"
      ],
      "metadata": {
        "id": "D2seYH9Z0W75"
      }
    },
    {
      "cell_type": "markdown",
      "source": [
        "###Mia implementazione con Gradient Descent"
      ],
      "metadata": {
        "id": "bPo6_wi42EzW"
      }
    },
    {
      "cell_type": "markdown",
      "source": [
        "###Validation Set"
      ],
      "metadata": {
        "id": "CXYdWWaV7oF5"
      }
    },
    {
      "cell_type": "code",
      "source": [
        "x_plot=[]\n",
        "y_plot=[]\n",
        "for i in range(15):\n",
        "    l1_parameter=1/pow(2, i)\n",
        "    myModel=LinearRegressionClassification(num_iter=1000, learning_rate=0.01, regolarizzation='L1', regulation_parameters_L1=l1_parameter)\n",
        "    myModel.fit(x_train, y_train)\n",
        "    x_plot.append(l1_parameter)\n",
        "    err_curr=mean_squared_error(y_val, myModel.predict(x_val), squared=False)\n",
        "    y_plot.append(err_curr)\n",
        "    # print(f'error_val_L1 with {l1_parameter} reg_par= {err_curr}')\n",
        "plt.plot(x_plot, y_plot)\n",
        "plt.xlabel('regulation_parameters_L1')\n",
        "plt.ylabel('error')\n",
        "plt.title('L1')\n",
        "plt.show()"
      ],
      "metadata": {
        "colab": {
          "base_uri": "https://localhost:8080/",
          "height": 472
        },
        "id": "8fIhVvKo2MaY",
        "outputId": "b55db2a1-e58e-4de6-9af1-a3518b82334b"
      },
      "execution_count": 68,
      "outputs": [
        {
          "output_type": "display_data",
          "data": {
            "text/plain": [
              "<Figure size 640x480 with 1 Axes>"
            ],
            "image/png": "[encoded data removed]"
          },
          "metadata": {}
        }
      ]
    },
    {
      "cell_type": "markdown",
      "source": [
        "###Test Set"
      ],
      "metadata": {
        "id": "mmeYGkGB7usK"
      }
    },
    {
      "cell_type": "code",
      "source": [
        "best_param=x_plot[y_plot.index(min(y_plot))]\n",
        "myModel=LinearRegressionClassification(num_iter=1000, learning_rate=0.01, regolarizzation='L1', regulation_parameters_L1=best_param)\n",
        "myModel.fit(x_train, y_train)\n",
        "\n",
        "print('Mia implemntazione: Regressione Lineare mediante Regolarizzazione L1 con gradient descent')\n",
        "print(f'error_test_L1= {mean_squared_error(y_test, myModel.predict(x_test), squared=False)}')"
      ],
      "metadata": {
        "colab": {
          "base_uri": "https://localhost:8080/"
        },
        "id": "vUnb6Wl77v9-",
        "outputId": "3a098029-351e-4511-c074-f0b22fd61aee"
      },
      "execution_count": 70,
      "outputs": [
        {
          "output_type": "stream",
          "name": "stdout",
          "text": [
            "Mia implemntazione: Regressione Lineare mediante Regolarizzazione L1 con gradient descent\n",
            "error_test_L1= 8280.837789344616\n"
          ]
        }
      ]
    },
    {
      "cell_type": "markdown",
      "source": [
        "###Implementazione con Scikit-Learn"
      ],
      "metadata": {
        "id": "R6tDTEHs2hNJ"
      }
    },
    {
      "cell_type": "code",
      "source": [
        "scikit=SGDRegressor(max_iter=1000, penalty='l1', learning_rate='constant', shuffle=False, eta0=0.00001, early_stopping=False)\n",
        "scikit.fit(x_train, y_train)\n",
        "\n",
        "print('Scikit-Learn: Linear regression con regolarizzazione L1')\n",
        "print(f'error_test= {mean_squared_error(y_test, scikit.predict(x_test), squared=False)}')"
      ],
      "metadata": {
        "colab": {
          "base_uri": "https://localhost:8080/"
        },
        "id": "oB7H7vA62kpx",
        "outputId": "c6639730-622d-49c9-ebab-5d4ca172c45c"
      },
      "execution_count": 71,
      "outputs": [
        {
          "output_type": "stream",
          "name": "stdout",
          "text": [
            "Scikit-Learn: Linear regression con regolarizzazione L1\n",
            "error_test= 8275.739266113722\n"
          ]
        },
        {
          "output_type": "stream",
          "name": "stderr",
          "text": [
            "/usr/local/lib/python3.9/dist-packages/sklearn/linear_model/_stochastic_gradient.py:1548: ConvergenceWarning: Maximum number of iteration reached before convergence. Consider increasing max_iter to improve the fit.\n",
            "  warnings.warn(\n"
          ]
        }
      ]
    },
    {
      "cell_type": "markdown",
      "source": [
        "##Regressione Lineare con regolarizzazione L2"
      ],
      "metadata": {
        "id": "-rbkx9CgA-2N"
      }
    },
    {
      "cell_type": "markdown",
      "source": [
        "Ridge Regression o $L_2$ Regolarization é un metodo per stimare i coefficienti di modelli in scenari in cui le variabili linearmente indipendenti sono altamente correlate. $L_2$ ha la seguente ipotesi:\n",
        "\n",
        "$$\n",
        "L(y, \\hat y) = MSE(y, \\hat y) + \\lambda L_1(w)\n",
        "$$\n",
        "dove \n",
        "$$\n",
        "L_1(w) = \\sum\\limits_{j} {w_j}^2\n",
        "$$\n",
        "e $\\lambda$ e' un iperparametro."
      ],
      "metadata": {
        "id": "BE4cUArQBIwX"
      }
    },
    {
      "cell_type": "markdown",
      "source": [
        "###Mia implementazione (con formula chiusa)"
      ],
      "metadata": {
        "id": "hfs-8aRJEXKU"
      }
    },
    {
      "cell_type": "markdown",
      "source": [
        "Il codice seguente implementa anche la regressione lineare con regolarizaione $L_2$ mediante formula chiusa per trovare il valore ottimale di w:\n",
        "\n",
        "$$\n",
        "w = ( X^TX+ λ I_p)^{-1}X^TY\n",
        "$$"
      ],
      "metadata": {
        "id": "thIWHB5Uubs6"
      }
    },
    {
      "cell_type": "code",
      "source": [
        "class LinearRegressionL2:\n",
        "    def __init__(self, lambda_=0.01):\n",
        "        self.w = None\n",
        "        self.b = None\n",
        "        self.lambda_ = lambda_\n",
        "\n",
        "    def fit(self, x, y):\n",
        "        x = np.insert(x, 0, 1, axis=1)\n",
        "        self.w = np.linalg.inv(x.T.dot(x) + self.lambda_ * np.eye(x.shape[1])).dot(x.T).dot(y)\n",
        "        self.b = self.w[0]\n",
        "        self.w = self.w[1:]\n",
        "\n",
        "    def predict(self, x):\n",
        "        return x.dot(self.w) + self.b"
      ],
      "metadata": {
        "id": "Hy5pt-6DEVah"
      },
      "execution_count": null,
      "outputs": []
    },
    {
      "cell_type": "code",
      "source": [
        "myModelL2=LinearRegressionL2(lambda_=0.1)\n",
        "myModelL2.fit(x_train, y_train)\n",
        "\n",
        "print('Mia implemntazione: Linear Regression mediante Ridge Regolarization con formula chiusa')\n",
        "print(f'error_test_= {mean_squared_error(y_test, myModelL2.predict(x_test), squared=False)}')\n"
      ],
      "metadata": {
        "id": "qDjyI4RgF0jE",
        "colab": {
          "base_uri": "https://localhost:8080/"
        },
        "outputId": "5b496bd4-db28-4d80-a733-7665a17d20af"
      },
      "execution_count": null,
      "outputs": [
        {
          "output_type": "stream",
          "name": "stdout",
          "text": [
            "Mia implemntazione: Linear Regression mediante Ridge Regolarization con formula chiusa\n",
            "error_test_= 8263.58970062892\n"
          ]
        }
      ]
    },
    {
      "cell_type": "markdown",
      "source": [
        "###Scikit-Learn Implementation"
      ],
      "metadata": {
        "id": "7UTVjFVlrnXs"
      }
    },
    {
      "cell_type": "code",
      "source": [
        "scikit=SGDRegressor(max_iter=1000, penalty='l2', learning_rate='constant', shuffle=False, eta0=0.00001, early_stopping=False)\n",
        "scikit.fit(x_train, y_train)\n",
        "\n",
        "print('Scikit-Learn: Linear regression con regolarizzazione L2')\n",
        "print(f'error_test= {mean_squared_error(y_test, scikit.predict(x_test), squared=False)}')"
      ],
      "metadata": {
        "colab": {
          "base_uri": "https://localhost:8080/"
        },
        "id": "T5kZE9zRrtUq",
        "outputId": "1a4e67ad-9168-4c97-bcb9-eb2bb2f67517"
      },
      "execution_count": null,
      "outputs": [
        {
          "output_type": "stream",
          "name": "stdout",
          "text": [
            "Scikit-Learn: Linear regression con regolarizzazione L2\n",
            "error_test= 8264.733223562718\n"
          ]
        },
        {
          "output_type": "stream",
          "name": "stderr",
          "text": [
            "/usr/local/lib/python3.9/dist-packages/sklearn/linear_model/_stochastic_gradient.py:1548: ConvergenceWarning: Maximum number of iteration reached before convergence. Consider increasing max_iter to improve the fit.\n",
            "  warnings.warn(\n"
          ]
        }
      ]
    },
    {
      "cell_type": "markdown",
      "source": [
        "###Mia implementazione con Gradient Descent"
      ],
      "metadata": {
        "id": "FuJCIKdptIDu"
      }
    },
    {
      "cell_type": "markdown",
      "source": [
        "###Validation Set"
      ],
      "metadata": {
        "id": "Eqy68Xdn870r"
      }
    },
    {
      "cell_type": "code",
      "source": [
        "x_plot=[]\n",
        "y_plot=[]\n",
        "for i in range(15):\n",
        "    l2_parameter=1/pow(2, i)\n",
        "    myModel=LinearRegressionClassification(num_iter=1000, learning_rate=0.01, regolarizzation='L2', regulation_parameters_L2=l2_parameter)\n",
        "    myModel.fit(x_train, y_train)\n",
        "    x_plot.append(l2_parameter)\n",
        "    err_curr=mean_squared_error(y_val, myModel.predict(x_val), squared=False)\n",
        "    y_plot.append(err_curr)\n",
        "    # print(f'error_val_L2 with {l2_parameter} reg_par= {err_curr}')\n",
        "plt.plot(x_plot, y_plot)\n",
        "plt.xlabel('regulation_parameters_L2')\n",
        "plt.ylabel('error')\n",
        "plt.title('L2')\n",
        "plt.show()"
      ],
      "metadata": {
        "colab": {
          "base_uri": "https://localhost:8080/",
          "height": 472
        },
        "id": "AG1jBnzH89o1",
        "outputId": "be85d690-756f-4732-aa64-25208f990b7b"
      },
      "execution_count": 72,
      "outputs": [
        {
          "output_type": "display_data",
          "data": {
            "text/plain": [
              "<Figure size 640x480 with 1 Axes>"
            ],
            "image/png": "[encoded data removed]"
          },
          "metadata": {}
        }
      ]
    },
    {
      "cell_type": "markdown",
      "source": [
        "###Test Set"
      ],
      "metadata": {
        "id": "sG46aqXc9FtK"
      }
    },
    {
      "cell_type": "code",
      "source": [
        "best_param=x_plot[y_plot.index(min(y_plot))]\n",
        "myModel=LinearRegressionClassification(num_iter=1000, learning_rate=0.01, regolarizzation='L2', regulation_parameters_L2=best_param)\n",
        "myModel.fit(x_train, y_train)\n",
        "\n",
        "print('Mia implemntazione: Regressione Lineare mediante Regolarizzazione L2 con gradient descent')\n",
        "print(f'error_test_L2= {mean_squared_error(y_test, myModel.predict(x_test), squared=False)}')"
      ],
      "metadata": {
        "colab": {
          "base_uri": "https://localhost:8080/"
        },
        "id": "JncUFeRb9G-A",
        "outputId": "99d3da1c-11d8-459c-8744-d8b0be528da4"
      },
      "execution_count": 73,
      "outputs": [
        {
          "output_type": "stream",
          "name": "stdout",
          "text": [
            "Mia implemntazione: Regressione Lineare mediante Regolarizzazione L2 con gradient descent\n",
            "error_test_L2= 8270.084274707051\n"
          ]
        }
      ]
    },
    {
      "cell_type": "markdown",
      "source": [
        "##Regressione Lineare con Elastic Regolarization"
      ],
      "metadata": {
        "id": "PszmRG12ueaq"
      }
    },
    {
      "cell_type": "markdown",
      "source": [
        "Ridge Regression o $L_2$ Regolarization é un metodo per stimare i coefficienti di modelli in scenari in cui le variabili linearmente indipendenti sono altamente correlate. $L_2$ ha la seguente ipotesi:\n",
        "\n",
        "$$\n",
        "L(y, \\hat y) = MSE(y, \\hat y) + \\lambda_1 L_1(w) + \\lambda_2 L_2(w)\n",
        "$$\n",
        "dove \n",
        "$$\n",
        "L_1(w) = \\sum\\limits_{j} {w_j}^2 \\, L_2(w) = \\sum\\limits_{j} |{w_j}|\n",
        "$$\n",
        "e $\\lambda_1$ e $\\lambda_2$ sono iperparametri."
      ],
      "metadata": {
        "id": "OrZ1WfMRup1L"
      }
    },
    {
      "cell_type": "markdown",
      "source": [
        "###Implementazione con SciKit-Learn"
      ],
      "metadata": {
        "id": "oBz2eVuuuQNs"
      }
    },
    {
      "cell_type": "code",
      "source": [
        "scikit=SGDRegressor(max_iter=1000, penalty='elasticnet', learning_rate='constant', shuffle=False, eta0=0.00001, early_stopping=False)\n",
        "scikit.fit(x_train, y_train)\n",
        "\n",
        "print('Scikit-Learn: regressione lineare con regolarizzazione elasticnet')\n",
        "print(f'error_test= {mean_squared_error(y_test, scikit.predict(x_test), squared=False)}')"
      ],
      "metadata": {
        "colab": {
          "base_uri": "https://localhost:8080/"
        },
        "id": "hi97LEakt4xD",
        "outputId": "b17aa450-4021-4c08-a77e-d28625b7b0ac"
      },
      "execution_count": null,
      "outputs": [
        {
          "output_type": "stream",
          "name": "stdout",
          "text": [
            "Scikit-Learn: Linear regression con regolarizzazione elasticnet\n",
            "error_test= 8264.73543139301\n"
          ]
        },
        {
          "output_type": "stream",
          "name": "stderr",
          "text": [
            "/usr/local/lib/python3.9/dist-packages/sklearn/linear_model/_stochastic_gradient.py:1548: ConvergenceWarning: Maximum number of iteration reached before convergence. Consider increasing max_iter to improve the fit.\n",
            "  warnings.warn(\n"
          ]
        }
      ]
    },
    {
      "cell_type": "markdown",
      "source": [
        "###Mia implementazione con Gradient Descent"
      ],
      "metadata": {
        "id": "nh-Ht2G-t8RB"
      }
    },
    {
      "cell_type": "markdown",
      "source": [
        "###Validation Set"
      ],
      "metadata": {
        "id": "zRxdMhv29raq"
      }
    },
    {
      "cell_type": "code",
      "source": [
        "dictionary={}\n",
        "x_plot=[]\n",
        "y_plot=[]\n",
        "for l2 in range(7):\n",
        "  for l1 in range(7):\n",
        "    l1_parameter=1/pow(2, l1)\n",
        "    l2_parameter=1/pow(2, l2)\n",
        "    alpha=l1_parameter/(l1_parameter+l2_parameter)\n",
        "    dictionary[alpha]=(l1_parameter, l2_parameter)\n",
        "\n",
        "for alpha, coppia in sorted(dictionary.items(), key=lambda item: item[0]):\n",
        "    l1_parameter, l2_parameter = coppia\n",
        "    myModel=LinearRegressionClassification(num_iter=1000, learning_rate=0.01, regolarizzation='elasticnet', regulation_parameters_L1=l1_parameter, regulation_parameters_L2=l2_parameter)\n",
        "    myModel.fit(x_train, y_train)\n",
        "    err_curr=mean_squared_error(y_val, myModel.predict(x_val), squared=False)\n",
        "    x_plot.append(alpha)\n",
        "    y_plot.append(err_curr)\n",
        "    dictionary[alpha]=(err_curr, l1_parameter, l2_parameter)\n",
        "\n",
        "plt.plot(x_plot, y_plot)\n",
        "plt.xlabel('alpha')\n",
        "plt.ylabel('error')\n",
        "plt.title('elasticnet')\n",
        "plt.show()"
      ],
      "metadata": {
        "colab": {
          "base_uri": "https://localhost:8080/",
          "height": 472
        },
        "id": "Ct-uorGx9ts2",
        "outputId": "1115b033-d483-44d9-b48e-b503ad8d0944"
      },
      "execution_count": 25,
      "outputs": [
        {
          "output_type": "display_data",
          "data": {
            "text/plain": [
              "<Figure size 640x480 with 1 Axes>"
            ],
            "image/png": "[encoded data removed]"
          },
          "metadata": {}
        }
      ]
    },
    {
      "cell_type": "markdown",
      "source": [
        "###Test Set"
      ],
      "metadata": {
        "id": "S6-puY2JWQya"
      }
    },
    {
      "cell_type": "code",
      "source": [
        "alpha, tupla = min(dictionary.items(), key=lambda x: x[1][0])\n",
        "error, best_l1, best_l2 = tupla\n",
        "\n",
        "myModel=LinearRegressionClassification(num_iter=1000, learning_rate=0.01, regolarizzation='elastic', regulation_parameters_L1=best_l1, regulation_parameters_L2=best_l2)\n",
        "myModel.fit(x_train, y_train)\n",
        "\n",
        "print('Mia implemntazione: Regressione Lineare mediante Regolarizzazione elastica con gradient descent')\n",
        "print(f'error_test_elastic= {mean_squared_error(y_test, myModel.predict(x_test), squared=False)}')"
      ],
      "metadata": {
        "colab": {
          "base_uri": "https://localhost:8080/"
        },
        "id": "5y8hWuoRS-ut",
        "outputId": "6c34923b-6384-470c-da08-db43674fa8a3"
      },
      "execution_count": 26,
      "outputs": [
        {
          "output_type": "stream",
          "name": "stdout",
          "text": [
            "Mia implemntazione: Regressione Lineare mediante Regolarizzazione elastica con gradient descent\n",
            "error_test_elastic= 8281.584927801572\n"
          ]
        }
      ]
    },
    {
      "cell_type": "markdown",
      "source": [
        "##Classificazione Lineare senza regolarizzazione"
      ],
      "metadata": {
        "id": "tq5Pw-0lu5YD"
      }
    },
    {
      "cell_type": "markdown",
      "source": [
        "Nelle seguenti implementazioni sfrutto la regressione lineare, gia' implementata, per costruirmi i classificatori lineari.\n",
        "Supponiamo di avere un problema di classificazione binaria con due classi etichettate come 0 e 1, si puo' utilizzare la regressione lineare per costruire una linea che separa le due classi. I valori predetti non saranno necessariamente compresi tra 0 e 1, quindi è necessario applicare una threshold function:\n",
        "\n",
        "$$\n",
        "h_w(x)=Threshold(w \\cdot x)\n",
        "$$\n",
        "dove\n",
        "\n",
        "$$  \n",
        "Threshold(z) = \\begin{cases}\n",
        "1 & z \\geq 0 \\\\\n",
        "0 & altrimenti \\\\\n",
        "\\end{cases}\n",
        "$$"
      ],
      "metadata": {
        "id": "YC1dv02Jyt4H"
      }
    },
    {
      "cell_type": "markdown",
      "source": [
        "###Preparazione dei dati"
      ],
      "metadata": {
        "id": "8PB_hCWyAjAQ"
      }
    },
    {
      "cell_type": "code",
      "source": [
        "y_train_class=np.array([1 if elem >= 1400 else 0 for elem in y_train])\n",
        "y_test_class=np.array([1 if elem >= 1400 else 0 for elem in y_test])"
      ],
      "metadata": {
        "id": "zLgqHLjpAfzO"
      },
      "execution_count": null,
      "outputs": []
    },
    {
      "cell_type": "markdown",
      "source": [
        "###Mia implementazione"
      ],
      "metadata": {
        "id": "yHrjvhInwe23"
      }
    },
    {
      "cell_type": "code",
      "source": [
        "from sklearn.metrics import accuracy_score\n",
        "\n",
        "myModel=LinearRegressionClassification(num_iter=1000, learning_rate=0.01, classification=True)\n",
        "myModel.fit(x_train, y_train_class)\n",
        "\n",
        "print('Mia implemntazione: Linear Classification senza regolarizzazione con gradient descent')\n",
        "print(f'classification_test_without_regolarization= {accuracy_score(y_test_class, myModel.predict(x_test, classification=True))*100} %')\n"
      ],
      "metadata": {
        "colab": {
          "base_uri": "https://localhost:8080/"
        },
        "id": "1wCBEdCDw0Hc",
        "outputId": "c78a0049-f69a-44cf-aade-8bc69461be0f"
      },
      "execution_count": null,
      "outputs": [
        {
          "output_type": "stream",
          "name": "stdout",
          "text": [
            "Mia implemntazione: Linear Classification senza regolarizzazione con gradient descent\n",
            "classification_test_without_regolarization= 57.888762769580026 %\n"
          ]
        }
      ]
    },
    {
      "cell_type": "markdown",
      "source": [
        "###SciKit Implementation"
      ],
      "metadata": {
        "id": "8TBqMWYj1mpT"
      }
    },
    {
      "cell_type": "code",
      "source": [
        "scikit = SGDClassifier(max_iter=1000, penalty=None, learning_rate='constant', loss='perceptron' ,shuffle=False, eta0=0.00001, early_stopping=False)\n",
        "scikit.fit(x_train, y_train_class)\n",
        "\n",
        "print('Scikit learn implementation: Classificazione Lineare senza Regolarizzazion')\n",
        "print(f'classification_test_without_regolarization_sklearn= {accuracy_score(y_test_class, scikit.predict(x_test))*100} %')\n"
      ],
      "metadata": {
        "colab": {
          "base_uri": "https://localhost:8080/"
        },
        "id": "dIi4SzPG1wUn",
        "outputId": "6366d390-bd0d-4b08-990a-0afee9a6f90b"
      },
      "execution_count": null,
      "outputs": [
        {
          "output_type": "stream",
          "name": "stdout",
          "text": [
            "Scikit learn implementation: Classificazione Lineare senza Regolarizzazion\n",
            "classification_test_without_regolarization_sklearn= 57.283390087022326 %\n"
          ]
        }
      ]
    },
    {
      "cell_type": "markdown",
      "source": [
        "##Classificazione Lineare con Regolarizzazione L1"
      ],
      "metadata": {
        "id": "JRHJliq210wx"
      }
    },
    {
      "cell_type": "markdown",
      "source": [
        "###Mia implementazione"
      ],
      "metadata": {
        "id": "T1JFXaNH17yS"
      }
    },
    {
      "cell_type": "code",
      "source": [
        "myModel=LinearRegressionClassification(num_iter=1000, learning_rate=0.01, regolarizzation='L1', classification=True)\n",
        "myModel.fit(x_train, y_train_class)\n",
        "\n",
        "print('Mia implemntazione: Classificazione Lineare con Regolarizzazione L1')\n",
        "print(f'classification_test_L1= {accuracy_score(y_test_class, myModel.predict(x_test, classification=True))*100} %')\n"
      ],
      "metadata": {
        "colab": {
          "base_uri": "https://localhost:8080/"
        },
        "id": "XApW8qcG1-2E",
        "outputId": "5b97f7fd-63d4-429c-ed89-aec863a1ef47"
      },
      "execution_count": null,
      "outputs": [
        {
          "output_type": "stream",
          "name": "stdout",
          "text": [
            "Mia implemntazione: Classificazione Lineare con Regolarizzazione L1\n",
            "classification_test_L1= 56.62756968091814 %\n"
          ]
        }
      ]
    },
    {
      "cell_type": "markdown",
      "source": [
        "###Scikit Implementation"
      ],
      "metadata": {
        "id": "Nn9--pdw2P5A"
      }
    },
    {
      "cell_type": "code",
      "source": [
        "scikit = SGDClassifier(max_iter=1000, penalty='l1', learning_rate='constant', loss='perceptron', shuffle=False, eta0=0.00001, early_stopping=False)\n",
        "scikit.fit(x_train, y_train_class)\n",
        "\n",
        "print('Scikit learn implementation: Classificazione Lineare con Regolarizzazione L1')\n",
        "print(f'classification_test_L1_sklearn= {accuracy_score(y_test_class, scikit.predict(x_test))*100} %')\n"
      ],
      "metadata": {
        "colab": {
          "base_uri": "https://localhost:8080/"
        },
        "id": "jVIIJK4R6B_z",
        "outputId": "967538f8-565c-4379-d781-801d34f5ef11"
      },
      "execution_count": null,
      "outputs": [
        {
          "output_type": "stream",
          "name": "stdout",
          "text": [
            "Scikit learn implementation: Classificazione Lineare con Regolarizzazione L1\n",
            "classification_test_L1_sklearn= 50.498171270021444 %\n"
          ]
        }
      ]
    },
    {
      "cell_type": "markdown",
      "source": [
        "##Classificazione Lineare con Regolarizzazione L2"
      ],
      "metadata": {
        "id": "AfZ00SVx6DVw"
      }
    },
    {
      "cell_type": "markdown",
      "source": [
        "###Mia implementazione"
      ],
      "metadata": {
        "id": "w-cf6nMH6iBN"
      }
    },
    {
      "cell_type": "code",
      "source": [
        "myModel=LinearRegressionClassification(num_iter=1000, learning_rate=0.01, regolarizzation='L2', classification=True)\n",
        "myModel.fit(x_train, y_train_class)\n",
        "\n",
        "print('Mia implemntazione: Classificazione Lineare con Regolarizzazione L2')\n",
        "print(f'classification_test_L2= {accuracy_score(y_test_class, myModel.predict(x_test, classification=True))*100} %')"
      ],
      "metadata": {
        "colab": {
          "base_uri": "https://localhost:8080/"
        },
        "id": "bRRSZfOI6SDa",
        "outputId": "fb464388-c280-435d-d478-1fa425549138"
      },
      "execution_count": null,
      "outputs": [
        {
          "output_type": "stream",
          "name": "stdout",
          "text": [
            "Mia implemntazione: Classificazione Lineare con Regolarizzazione L2\n",
            "classification_test_L2= 57.888762769580026 %\n"
          ]
        }
      ]
    },
    {
      "cell_type": "markdown",
      "source": [
        "###Implementazione con SciKit "
      ],
      "metadata": {
        "id": "Fxz4TWSj6oGx"
      }
    },
    {
      "cell_type": "code",
      "source": [
        "scikit = SGDClassifier(max_iter=1000, penalty='l2', learning_rate='constant', loss='perceptron', shuffle=False, eta0=0.00001, early_stopping=False)\n",
        "scikit.fit(x_train, y_train_class)\n",
        "\n",
        "print('Scikit learn implementation: Classificazione Lineare con Regolarizzazione L2')\n",
        "print(f'classification_test_L2_sklearn= {accuracy_score(y_test_class, scikit.predict(x_test))*100} %')\n"
      ],
      "metadata": {
        "colab": {
          "base_uri": "https://localhost:8080/"
        },
        "id": "6nBKM4tz6ru2",
        "outputId": "86ce9456-bfd3-4756-8631-41c3b6d61bfe"
      },
      "execution_count": null,
      "outputs": [
        {
          "output_type": "stream",
          "name": "stdout",
          "text": [
            "Scikit learn implementation: Classificazione Lineare con Regolarizzazione L2\n",
            "classification_test_L2_sklearn= 58.64547862277715 %\n"
          ]
        }
      ]
    },
    {
      "cell_type": "markdown",
      "source": [
        "##Classificazione con ElasticNet Regolarization"
      ],
      "metadata": {
        "id": "TH3ZFiub7Pci"
      }
    },
    {
      "cell_type": "markdown",
      "source": [
        "###Mia implementazione"
      ],
      "metadata": {
        "id": "wJa4sh367WZo"
      }
    },
    {
      "cell_type": "code",
      "source": [
        "myModel=LinearRegressionClassification(num_iter=1000, learning_rate=0.01, regolarizzation='elasticnet', classification=True)\n",
        "myModel.fit(x_train, y_train)\n",
        "\n",
        "print('Mia implemntazione: Classificazione Lineare con ElasticNet Regolarization')\n",
        "print(f'classification_test_elasticnet= {accuracy_score(y_test_class, myModel.predict(x_test, classification=True))*100} %')\n"
      ],
      "metadata": {
        "colab": {
          "base_uri": "https://localhost:8080/"
        },
        "id": "ZdYJmerp7omr",
        "outputId": "930a4696-5142-47fe-8e23-22c4fd14c685"
      },
      "execution_count": null,
      "outputs": [
        {
          "output_type": "stream",
          "name": "stdout",
          "text": [
            "Mia implemntazione: Classificazione Lineare con ElasticNet Regolarization\n",
            "classification_test_elasticnet= 59.894059780552396 %\n"
          ]
        }
      ]
    },
    {
      "cell_type": "markdown",
      "source": [
        "###Implementazione con Scikit"
      ],
      "metadata": {
        "id": "gWJeZ1If7rR7"
      }
    },
    {
      "cell_type": "code",
      "source": [
        "scikit = SGDClassifier(max_iter=1000, penalty='elasticnet', learning_rate='constant', loss='perceptron', shuffle=False, eta0=0.00001, early_stopping=False)\n",
        "scikit.fit(x_train, y_train_class)\n",
        "\n",
        "print('Scikit learn implementation: Classificazione Lineare con Regolarizzazione elasticnet')\n",
        "print(f'classification_test_elasticnet_sklearn= {accuracy_score(y_test_class, scikit.predict(x_test))*100} %')\n"
      ],
      "metadata": {
        "colab": {
          "base_uri": "https://localhost:8080/"
        },
        "id": "smjSqSuz7uV_",
        "outputId": "fd0ae104-6f54-4c91-a972-5415ff332dee"
      },
      "execution_count": null,
      "outputs": [
        {
          "output_type": "stream",
          "name": "stdout",
          "text": [
            "Scikit learn implementation: Classificazione Lineare con Regolarizzazione elasticnet\n",
            "classification_test_elasticnet_sklearn= 52.743094967839575 %\n"
          ]
        }
      ]
    },
    {
      "cell_type": "markdown",
      "source": [
        "#Algoritmo KNN"
      ],
      "metadata": {
        "id": "VChmsSNJBG2l"
      }
    },
    {
      "cell_type": "markdown",
      "source": [
        "###Preparazione dei dati"
      ],
      "metadata": {
        "id": "6MqPdvLXgX8F"
      }
    },
    {
      "cell_type": "code",
      "source": [
        "matrice=np.array(df)\n",
        "x=matrice[: , :-1]\n",
        "y_regres=matrice[: , -1]\n",
        "y_class=np.array([elem >= 1400 for elem in matrice[:, -1]])\n",
        "\n",
        "x_train_class, x_test_class, y_train_class, y_test_class=train_test_split(x,y_class, test_size=0.2, random_state=1)\n",
        "x_train_class, x_val_class, y_train_class, y_val_class=train_test_split(x_train_class,y_train_class, test_size=0.2, random_state=1)\n",
        "\n",
        "\n",
        "x_train_regres, x_test_regres, y_train_regres, y_test_regres=train_test_split(x,y_regres, test_size=0.2, random_state=1)\n",
        "x_train_regres, x_val_regres, y_train_regres, y_val_regres=train_test_split(x_train_regres,y_train_regres, test_size=0.2, random_state=1)\n"
      ],
      "metadata": {
        "id": "pJopD32hgaCx"
      },
      "execution_count": 9,
      "outputs": []
    },
    {
      "cell_type": "markdown",
      "source": [
        "##Implementazione con Scikit (Regressione)"
      ],
      "metadata": {
        "id": "6nY4nX4bc6nX"
      }
    },
    {
      "cell_type": "code",
      "source": [
        "from sklearn.neighbors import KNeighborsClassifier, KNeighborsRegressor\n",
        "from sklearn import metrics\n",
        "\n",
        "x_plot=[]\n",
        "y_plot=[]\n",
        "dictionary={}\n",
        "for i in range(1, 80):\n",
        "    scikitKneighborsClassifier=KNeighborsClassifier(n_neighbors=i)\n",
        "    scikitKneighborsClassifier.fit(x_train_class, y_train_class)\n",
        "    predictions=scikitKneighborsClassifier.predict(x_val_class)\n",
        "    current_accuracy=metrics.accuracy_score(y_val_class, predictions)*100\n",
        "    print(f'accurancy of {i} neighbors= {current_accuracy}%')\n",
        "    x_plot.append(i)\n",
        "    y_plot.append(current_accuracy)\n",
        "    dictionary[i]=current_accuracy\n",
        "plt.plot(x_plot, y_plot)\n",
        "plt.show()"
      ],
      "metadata": {
        "colab": {
          "base_uri": "https://localhost:8080/",
          "height": 1000
        },
        "id": "JHkIHsexgUs6",
        "outputId": "4794f3b7-e975-4ed6-851c-55249ca1cb29"
      },
      "execution_count": 34,
      "outputs": [
        {
          "output_type": "stream",
          "name": "stdout",
          "text": [
            "accurancy of 1 neighbors= 54.98975248305218%\n",
            "accurancy of 2 neighbors= 53.08213778968942%\n",
            "accurancy of 3 neighbors= 56.17215828472332%\n",
            "accurancy of 4 neighbors= 54.532555573072685%\n",
            "accurancy of 5 neighbors= 56.897367176414946%\n",
            "accurancy of 6 neighbors= 56.298281570234906%\n",
            "accurancy of 7 neighbors= 57.74869935361816%\n",
            "accurancy of 8 neighbors= 56.66088601608072%\n",
            "accurancy of 9 neighbors= 57.953649692574494%\n",
            "accurancy of 10 neighbors= 56.739713069525465%\n",
            "accurancy of 11 neighbors= 57.401860318461296%\n",
            "accurancy of 12 neighbors= 56.17215828472332%\n",
            "accurancy of 13 neighbors= 56.94466340848179%\n",
            "accurancy of 14 neighbors= 56.723947658836515%\n",
            "accurancy of 15 neighbors= 58.079772978086076%\n",
            "accurancy of 16 neighbors= 57.417625729150245%\n",
            "accurancy of 17 neighbors= 58.31625413842031%\n",
            "accurancy of 18 neighbors= 57.8905880498187%\n",
            "accurancy of 19 neighbors= 58.205896263597666%\n",
            "accurancy of 20 neighbors= 57.78023017499606%\n",
            "accurancy of 21 neighbors= 57.953649692574494%\n",
            "accurancy of 22 neighbors= 57.575279836039726%\n",
            "accurancy of 23 neighbors= 57.81176099637395%\n",
            "accurancy of 24 neighbors= 57.527983603972885%\n",
            "accurancy of 25 neighbors= 57.985180513952386%\n",
            "accurancy of 26 neighbors= 57.969415103263444%\n",
            "accurancy of 27 neighbors= 58.536969888065585%\n",
            "accurancy of 28 neighbors= 57.985180513952386%\n",
            "accurancy of 29 neighbors= 58.536969888065585%\n",
            "accurancy of 30 neighbors= 58.205896263597666%\n",
            "accurancy of 31 neighbors= 59.167586315623524%\n",
            "accurancy of 32 neighbors= 58.631562352199275%\n",
            "accurancy of 33 neighbors= 58.663093173577174%\n",
            "accurancy of 34 neighbors= 58.458142834620844%\n",
            "accurancy of 35 neighbors= 58.67885858426612%\n",
            "accurancy of 36 neighbors= 58.473908245309794%\n",
            "accurancy of 37 neighbors= 59.10452467286773%\n",
            "accurancy of 38 neighbors= 58.820747280466655%\n",
            "accurancy of 39 neighbors= 58.568500709443484%\n",
            "accurancy of 40 neighbors= 58.127069210152925%\n",
            "accurancy of 41 neighbors= 58.39508119186505%\n",
            "accurancy of 42 neighbors= 58.600031530821376%\n",
            "accurancy of 43 neighbors= 58.48967365599874%\n",
            "accurancy of 44 neighbors= 58.67885858426612%\n",
            "accurancy of 45 neighbors= 58.615796941510325%\n",
            "accurancy of 46 neighbors= 58.694623994955066%\n",
            "accurancy of 47 neighbors= 58.789216459088756%\n",
            "accurancy of 48 neighbors= 58.67885858426612%\n",
            "accurancy of 49 neighbors= 58.741920227021915%\n",
            "accurancy of 50 neighbors= 58.205896263597666%\n",
            "accurancy of 51 neighbors= 58.3477849597982%\n",
            "accurancy of 52 neighbors= 58.42661201324294%\n",
            "accurancy of 53 neighbors= 58.8680435125335%\n",
            "accurancy of 54 neighbors= 58.67885858426612%\n",
            "accurancy of 55 neighbors= 58.8680435125335%\n",
            "accurancy of 56 neighbors= 58.710389405644015%\n",
            "accurancy of 57 neighbors= 58.852278101844554%\n",
            "accurancy of 58 neighbors= 58.694623994955066%\n",
            "accurancy of 59 neighbors= 58.8680435125335%\n",
            "accurancy of 60 neighbors= 58.726154816332965%\n",
            "accurancy of 61 neighbors= 58.600031530821376%\n",
            "accurancy of 62 neighbors= 58.458142834620844%\n",
            "accurancy of 63 neighbors= 58.568500709443484%\n",
            "accurancy of 64 neighbors= 58.458142834620844%\n",
            "accurancy of 65 neighbors= 58.67885858426612%\n",
            "accurancy of 66 neighbors= 58.473908245309794%\n",
            "accurancy of 67 neighbors= 58.773451048399814%\n",
            "accurancy of 68 neighbors= 58.773451048399814%\n",
            "accurancy of 69 neighbors= 58.757685637710864%\n",
            "accurancy of 70 neighbors= 58.552735298754534%\n",
            "accurancy of 71 neighbors= 58.663093173577174%\n",
            "accurancy of 72 neighbors= 58.615796941510325%\n",
            "accurancy of 73 neighbors= 58.899574333911396%\n",
            "accurancy of 74 neighbors= 58.694623994955066%\n",
            "accurancy of 75 neighbors= 58.8680435125335%\n",
            "accurancy of 76 neighbors= 58.757685637710864%\n",
            "accurancy of 77 neighbors= 58.978401387356136%\n",
            "accurancy of 78 neighbors= 58.741920227021915%\n",
            "accurancy of 79 neighbors= 59.08875926217878%\n"
          ]
        },
        {
          "output_type": "display_data",
          "data": {
            "text/plain": [
              "<Figure size 640x480 with 1 Axes>"
            ],
            "image/png": "[encoded data removed]"
          },
          "metadata": {}
        }
      ]
    },
    {
      "cell_type": "markdown",
      "source": [
        "###Mia implementazione sul validation Set"
      ],
      "metadata": {
        "id": "yNaanIGpmQrA"
      }
    },
    {
      "cell_type": "code",
      "source": [
        "class MyKNeighbors:\n",
        "\n",
        "    def __init__(self, n_neighbors=5, mode='classification'):\n",
        "        self.n_neighbors=n_neighbors\n",
        "        self.mode=mode\n",
        "\n",
        "    def fit(self, x_train, y_train):\n",
        "        self.x_train=x_train\n",
        "        self.y_train=y_train\n",
        "\n",
        "    def predict(self, x_test):\n",
        "        result=[]\n",
        "        for i in range(len(x_test)):\n",
        "\n",
        "            difference=self.x_train-x_test[i]\n",
        "            distanza=np.linalg.norm(difference, axis=1)\n",
        "            distances=np.argpartition(distanza, self.n_neighbors)[:self.n_neighbors]\n",
        "\n",
        "            if self.mode=='classification':\n",
        "                classification=self.majority_vote(self.y_train[distances])\n",
        "                result.append(classification)\n",
        "            if self.mode=='regression':\n",
        "                regression=np.mean(self.y_train[distances])\n",
        "                result.append(regression)\n",
        "\n",
        "        return result\n",
        "    \n",
        "    def majority_vote(self, neighbors):\n",
        "        class_counter = {}\n",
        "        for i in neighbors:\n",
        "            if i in class_counter:\n",
        "                class_counter[i] += 1\n",
        "            else:\n",
        "                class_counter[i] = 1\n",
        "        return max(class_counter, key=class_counter.get)\n"
      ],
      "metadata": {
        "id": "IT2p4WWNmaRQ"
      },
      "execution_count": 24,
      "outputs": []
    },
    {
      "cell_type": "code",
      "source": [
        "dic=sorted(dictionary.items(), key=lambda x: x[1], reverse=True)\n",
        "testing=[elem[0] for elem in dic[:5]]\n",
        "\n",
        "x_plot=[]\n",
        "y_plot=[]\n",
        "dictionary={}\n",
        "for k in testing:\n",
        "    myModel=MyKNeighbors(n_neighbors=k, mode='classification')\n",
        "    myModel.fit(x_train_class, y_train_class)\n",
        "    predictions=myModel.predict(x_val_class)\n",
        "    current_accuracy=metrics.accuracy_score(y_val_class, predictions)*100\n",
        "    print(f'accurancy of {k} neighbors= {current_accuracy}%')\n",
        "    x_plot.append(k)\n",
        "    y_plot.append(current_accuracy)\n",
        "    dictionary[k]=current_accuracy\n",
        "    \n",
        "plt.plot(x_plot, y_plot)\n",
        "plt.show()"
      ],
      "metadata": {
        "colab": {
          "base_uri": "https://localhost:8080/",
          "height": 542
        },
        "id": "raEH6J2tmdY-",
        "outputId": "be0eae8c-ab80-4e9e-af9e-8f5bc8f2d50b"
      },
      "execution_count": 35,
      "outputs": [
        {
          "output_type": "stream",
          "name": "stdout",
          "text": [
            "[(31, 59.167586315623524), (37, 59.10452467286773), (79, 59.08875926217878), (77, 58.978401387356136), (73, 58.899574333911396), (53, 58.8680435125335), (55, 58.8680435125335), (59, 58.8680435125335), (75, 58.8680435125335), (57, 58.852278101844554), (38, 58.820747280466655), (47, 58.789216459088756), (67, 58.773451048399814), (68, 58.773451048399814), (69, 58.757685637710864), (76, 58.757685637710864), (49, 58.741920227021915), (78, 58.741920227021915), (60, 58.726154816332965), (56, 58.710389405644015), (46, 58.694623994955066), (58, 58.694623994955066), (74, 58.694623994955066), (35, 58.67885858426612), (44, 58.67885858426612), (48, 58.67885858426612), (54, 58.67885858426612), (65, 58.67885858426612), (33, 58.663093173577174), (71, 58.663093173577174), (32, 58.631562352199275), (45, 58.615796941510325), (72, 58.615796941510325), (42, 58.600031530821376), (61, 58.600031530821376), (39, 58.568500709443484), (63, 58.568500709443484), (70, 58.552735298754534), (27, 58.536969888065585), (29, 58.536969888065585), (43, 58.48967365599874), (36, 58.473908245309794), (66, 58.473908245309794), (34, 58.458142834620844), (62, 58.458142834620844), (64, 58.458142834620844), (52, 58.42661201324294), (41, 58.39508119186505), (51, 58.3477849597982), (17, 58.31625413842031), (19, 58.205896263597666), (30, 58.205896263597666), (50, 58.205896263597666), (40, 58.127069210152925), (15, 58.079772978086076), (25, 57.985180513952386), (28, 57.985180513952386), (26, 57.969415103263444), (9, 57.953649692574494), (21, 57.953649692574494), (18, 57.8905880498187), (23, 57.81176099637395), (20, 57.78023017499606), (7, 57.74869935361816), (22, 57.575279836039726), (24, 57.527983603972885), (16, 57.417625729150245), (11, 57.401860318461296), (13, 56.94466340848179), (5, 56.897367176414946), (10, 56.739713069525465), (14, 56.723947658836515), (8, 56.66088601608072), (6, 56.298281570234906), (3, 56.17215828472332), (12, 56.17215828472332), (1, 54.98975248305218), (4, 54.532555573072685), (2, 53.08213778968942)]\n",
            "[31, 37, 79]\n",
            "accurancy of 31 neighbors= 59.167586315623524%\n",
            "accurancy of 37 neighbors= 59.10452467286773%\n",
            "accurancy of 79 neighbors= 59.08875926217878%\n"
          ]
        },
        {
          "output_type": "display_data",
          "data": {
            "text/plain": [
              "<Figure size 640x480 with 1 Axes>"
            ],
            "image/png": "[encoded data removed]"
          },
          "metadata": {}
        }
      ]
    },
    {
      "cell_type": "markdown",
      "source": [
        "###Test Set"
      ],
      "metadata": {
        "id": "TXdmSP7cqbGZ"
      }
    },
    {
      "cell_type": "code",
      "source": [
        "dic=sorted(dictionary.items(), key=lambda x: x[1], reverse=True)\n",
        "best_k=dic[0][0]\n",
        "\n",
        "myModel=MyKNeighbors(n_neighbors=best_k, mode='classification')\n",
        "myModel.fit(x_train_class, y_train_class)\n",
        "predictions=myModel.predict(x_test_class)\n",
        "current_accuracy=metrics.accuracy_score(y_test_class, predictions)*100\n",
        "\n",
        "print('Mia implementazione di classificazione con KNeighbors ')\n",
        "print(f'accurancy of {k} neighbors= {current_accuracy}%')"
      ],
      "metadata": {
        "colab": {
          "base_uri": "https://localhost:8080/"
        },
        "id": "FTgLN2C9qczS",
        "outputId": "3b9feb9f-2c8c-4564-a156-0c7c2776f98d"
      },
      "execution_count": 36,
      "outputs": [
        {
          "output_type": "stream",
          "name": "stdout",
          "text": [
            "Mia implementazione di classificazione con KNeighbors \n",
            "accurancy of 79 neighbors= 59.074284272922185%\n"
          ]
        }
      ]
    },
    {
      "cell_type": "markdown",
      "source": [
        "##Implementazione con Scikit (regressione)"
      ],
      "metadata": {
        "id": "y5ecLfA5rn2y"
      }
    },
    {
      "cell_type": "code",
      "source": [
        "x_plot=[]\n",
        "y_plot=[]\n",
        "dictionary={}\n",
        "for i in range(1, 80):\n",
        "    scikit=KNeighborsRegressor(n_neighbors=i)\n",
        "    scikit.fit(x_train_regres, y_train_regres)\n",
        "    predictions=scikit.predict(x_val_regres)\n",
        "    current_error=metrics.mean_squared_error(y_val_regres, predictions, squared=False)\n",
        "    print(f'error of {i} neighbors= {current_error}')\n",
        "    x_plot.append(i)\n",
        "    y_plot.append(current_error)\n",
        "    dictionary[i]=current_error\n",
        "plt.plot(x_plot, y_plot)\n",
        "plt.show()"
      ],
      "metadata": {
        "colab": {
          "base_uri": "https://localhost:8080/",
          "height": 1000
        },
        "id": "R7Rr26jXrsXv",
        "outputId": "dfe14cd6-692f-4539-dd1f-8a18bff1dab2"
      },
      "execution_count": 43,
      "outputs": [
        {
          "output_type": "stream",
          "name": "stdout",
          "text": [
            "error of 1 neighbors= 15225.924163065538\n",
            "error of 2 neighbors= 11424.510176904778\n",
            "error of 3 neighbors= 9702.991416533727\n",
            "error of 4 neighbors= 9186.93724191813\n",
            "error of 5 neighbors= 8755.436625217835\n",
            "error of 6 neighbors= 8490.828485311627\n",
            "error of 7 neighbors= 8421.428505625126\n",
            "error of 8 neighbors= 8334.404259383251\n",
            "error of 9 neighbors= 8275.14888784876\n",
            "error of 10 neighbors= 8175.616754782379\n",
            "error of 11 neighbors= 8055.688675956313\n",
            "error of 12 neighbors= 8021.897728664112\n",
            "error of 13 neighbors= 7967.643799386469\n",
            "error of 14 neighbors= 7944.471671283817\n",
            "error of 15 neighbors= 7888.846262831082\n",
            "error of 16 neighbors= 7846.124723319356\n",
            "error of 17 neighbors= 7835.297089828307\n",
            "error of 18 neighbors= 7842.36276406095\n",
            "error of 19 neighbors= 7857.393617786748\n",
            "error of 20 neighbors= 7832.374656456379\n",
            "error of 21 neighbors= 7810.077348671558\n",
            "error of 22 neighbors= 7787.595606829665\n",
            "error of 23 neighbors= 7765.182884569972\n",
            "error of 24 neighbors= 7751.905973628995\n",
            "error of 25 neighbors= 7738.225874393637\n",
            "error of 26 neighbors= 7724.9434767499315\n",
            "error of 27 neighbors= 7716.696331678654\n",
            "error of 28 neighbors= 7705.757896666298\n",
            "error of 29 neighbors= 7696.207343038851\n",
            "error of 30 neighbors= 7685.242754440524\n",
            "error of 31 neighbors= 7675.776523096333\n",
            "error of 32 neighbors= 7672.996172229686\n",
            "error of 33 neighbors= 7673.582261379795\n",
            "error of 34 neighbors= 7668.922299706585\n",
            "error of 35 neighbors= 7660.870322538167\n",
            "error of 36 neighbors= 7659.318775177681\n",
            "error of 37 neighbors= 7659.619532664602\n",
            "error of 38 neighbors= 7662.782385038112\n",
            "error of 39 neighbors= 7658.202571331509\n",
            "error of 40 neighbors= 7658.616896962263\n",
            "error of 41 neighbors= 7655.872870933114\n",
            "error of 42 neighbors= 7651.1874127224455\n",
            "error of 43 neighbors= 7646.104927101694\n",
            "error of 44 neighbors= 7646.336224620921\n",
            "error of 45 neighbors= 7654.718729493355\n",
            "error of 46 neighbors= 7654.611729896056\n",
            "error of 47 neighbors= 7654.4113519373595\n",
            "error of 48 neighbors= 7654.3623676305\n",
            "error of 49 neighbors= 7651.053822802207\n",
            "error of 50 neighbors= 7651.424141372753\n",
            "error of 51 neighbors= 7646.41236296792\n",
            "error of 52 neighbors= 7643.585166316598\n",
            "error of 53 neighbors= 7643.686099030375\n",
            "error of 54 neighbors= 7639.225821071396\n",
            "error of 55 neighbors= 7633.397286103853\n",
            "error of 56 neighbors= 7630.551842669096\n",
            "error of 57 neighbors= 7627.402396556948\n",
            "error of 58 neighbors= 7620.000579368288\n",
            "error of 59 neighbors= 7619.434411116675\n",
            "error of 60 neighbors= 7613.315663018135\n",
            "error of 61 neighbors= 7612.116000591583\n",
            "error of 62 neighbors= 7611.565417425146\n",
            "error of 63 neighbors= 7609.745615578204\n",
            "error of 64 neighbors= 7610.4716744059915\n",
            "error of 65 neighbors= 7612.038627364672\n",
            "error of 66 neighbors= 7606.758982113714\n",
            "error of 67 neighbors= 7606.0363885401875\n",
            "error of 68 neighbors= 7604.649647091194\n",
            "error of 69 neighbors= 7600.482643001684\n",
            "error of 70 neighbors= 7599.29288989641\n",
            "error of 71 neighbors= 7598.617012346292\n",
            "error of 72 neighbors= 7600.801734965738\n",
            "error of 73 neighbors= 7598.503817814445\n",
            "error of 74 neighbors= 7602.820641258899\n",
            "error of 75 neighbors= 7603.129552331878\n",
            "error of 76 neighbors= 7596.518864322459\n",
            "error of 77 neighbors= 7599.065373404431\n",
            "error of 78 neighbors= 7600.613573591058\n",
            "error of 79 neighbors= 7598.097599875955\n"
          ]
        },
        {
          "output_type": "display_data",
          "data": {
            "text/plain": [
              "<Figure size 640x480 with 1 Axes>"
            ],
            "image/png": "[encoded data removed]"
          },
          "metadata": {}
        }
      ]
    },
    {
      "cell_type": "markdown",
      "source": [
        "##Mia implementazione sul validation Set"
      ],
      "metadata": {
        "id": "QgwlFLBws7xk"
      }
    },
    {
      "cell_type": "code",
      "source": [
        "dic=sorted(dictionary.items(), key=lambda x: x[1], reverse=False)\n",
        "testing=[elem[0] for elem in dic[:5]]\n",
        "\n",
        "x_plot=[]\n",
        "y_plot=[]\n",
        "dictionary={}\n",
        "for k in testing:\n",
        "    myModel=MyKNeighbors(n_neighbors=k, mode='regression')\n",
        "    myModel.fit(x_train_regres, y_train_regres)\n",
        "    predictions=myModel.predict(x_val_regres)\n",
        "    current_error=metrics.mean_squared_error(y_val_regres, predictions, squared=False)\n",
        "    print(f'error of {k} neighbors= {current_error}%')\n",
        "    x_plot.append(k)\n",
        "    y_plot.append(current_error)\n",
        "    dictionary[k]=current_error\n",
        "    \n",
        "plt.plot(x_plot, y_plot)\n",
        "plt.show()"
      ],
      "metadata": {
        "colab": {
          "base_uri": "https://localhost:8080/",
          "height": 522
        },
        "id": "JPDwJay0s9T9",
        "outputId": "be78f5ac-61d1-4cef-c737-dee0be6add82"
      },
      "execution_count": 44,
      "outputs": [
        {
          "output_type": "stream",
          "name": "stdout",
          "text": [
            "error of 76 neighbors= 7596.518864322459%\n",
            "error of 79 neighbors= 7598.097599875955%\n",
            "error of 73 neighbors= 7598.503817814445%\n",
            "error of 71 neighbors= 7598.617012346292%\n",
            "error of 77 neighbors= 7599.065373404431%\n"
          ]
        },
        {
          "output_type": "display_data",
          "data": {
            "text/plain": [
              "<Figure size 640x480 with 1 Axes>"
            ],
            "image/png": "[encoded data removed]"
          },
          "metadata": {}
        }
      ]
    },
    {
      "cell_type": "markdown",
      "source": [
        "##Test Set"
      ],
      "metadata": {
        "id": "VMijPd2Ytaed"
      }
    },
    {
      "cell_type": "code",
      "source": [
        "dic=sorted(dictionary.items(), key=lambda x: x[1], reverse=False)\n",
        "best_k=dic[0][0]\n",
        "\n",
        "myModel=MyKNeighbors(n_neighbors=best_k, mode='regression')\n",
        "myModel.fit(x_train_regres, y_train_regres)\n",
        "predictions=myModel.predict(x_test_regres)\n",
        "current_error=metrics.mean_squared_error(y_test_regres, predictions, squared=False)\n",
        "\n",
        "print('Mia implementazione di regressione con KNeighbors ')\n",
        "print(f'error of {k} neighbors= {current_error}%')"
      ],
      "metadata": {
        "colab": {
          "base_uri": "https://localhost:8080/"
        },
        "id": "ZFVNAWBUte7L",
        "outputId": "b4a8b210-d730-49f0-f4f5-cf7946460cd6"
      },
      "execution_count": 45,
      "outputs": [
        {
          "output_type": "stream",
          "name": "stdout",
          "text": [
            "Mia implementazione di regressione con KNeighbors \n",
            "error of 77 neighbors= 8419.930587636683%\n"
          ]
        }
      ]
    },
    {
      "cell_type": "markdown",
      "source": [
        "#Rete Neurale"
      ],
      "metadata": {
        "id": "3gqH3uuSdSCn"
      }
    },
    {
      "cell_type": "markdown",
      "source": [
        "Una rete neurale è un modello computazionale ispirato al funzionamento del cervello umano. È composta da un insieme di unità di elaborazione, chiamate neuroni artificiali, che sono interconnesse tra loro attraverso connessioni sinaptiche. Queste connessioni hanno un peso che determina l'importanza dell'informazione trasmessa tra i neuroni.\n"
      ],
      "metadata": {
        "id": "Cw7QEXbqWZ9u"
      }
    },
    {
      "cell_type": "markdown",
      "source": [
        "##Regressione con Rete Neurale"
      ],
      "metadata": {
        "id": "Eh_Gcom8c5k_"
      }
    },
    {
      "cell_type": "markdown",
      "source": [
        "Quindi si addestra la rete neurale sul training set tramite l'aggiornamento dei pesi con le funzioni di Forward e BackPropagation. Nella funzione di Forward si calcolano le risposte lineari $z_i$ e i relativi output $a_i$. Con un solo hidden layer avremo:\n",
        "\n",
        "$\n",
        "z_1 = W_1 \\cdot x + b_1 \n",
        "$\n",
        "\n",
        "$\n",
        "a_1 = σ(z_1)\n",
        "$\n",
        "\n",
        "$\n",
        "z_2 = W_2 \\cdot a_1 + b_2\n",
        "$\n",
        "\n",
        "$\n",
        "a_2 = σ (z_2)\n",
        "$\n",
        "\n",
        "Nella funzione backPropataion, derivando l funzione di Loss si hanno i seguenti risultati:\n",
        "\n",
        "$$\n",
        "\\frac{\\partial L }{ \\partial z_{1}^{(i)} } =  \\frac{\\partial L }{ \\partial z_{2}^{(i)} } W_2^T * \\sigma'(a_1^{(i)})\n",
        "$$\n",
        "\n",
        "$$\n",
        "\\frac{\\partial L }{ \\partial z_{2}^{(i)} } = (a_2^{(i)} - y^{(i)}) \\cdot  \\sigma'(a_2^{(i)})\n",
        "$$\n",
        "\n",
        "$$\n",
        "\\frac{\\partial L }{ \\partial W_1 } = X^T \\frac{\\partial L }{ \\partial z_{1}^{(i)} } \n",
        "$$\n",
        "\n",
        "$$\n",
        "\\frac{\\partial L }{ \\partial W_2 } = a_1^{(i) T}  \\frac{\\partial L }{ \\partial z_{2}^{(i)} } \n",
        "$$\n",
        "\n",
        "$$\n",
        "\\frac{\\partial L }{ \\partial b_1 } = \\sum_i{\\frac{\\partial L }{ \\partial z_{1}^{(i)}}}\n",
        "$$\n",
        "\n",
        "$$\n",
        "\\frac{\\partial L }{ \\partial b_2 } = \\sum_i{\\frac{\\partial L }{ \\partial z_{2}^{(i)}}}\n",
        "$$\n",
        "\n",
        "dove\n",
        "\n",
        "$ z_1 $ e' l'output degli hidden nodes\n",
        "\n",
        "$ z_2 $ e' l'uscita degli output nodes\n",
        "\n",
        "$\n",
        "σ(x) = \\frac{1}{1+e^{-x}}\n",
        "$\n",
        "\n",
        "$\n",
        "σ'(x) = σ(x) * (1 - σ(x))\n",
        "$\n",
        "\n",
        "N.B. Si poteva utilizzare un'altra qualsiasi funzione non lineare (es. Tanh, ReLu ...) a patto che fosse limitata, monotona e squashing.\n",
        "\n",
        "\n"
      ],
      "metadata": {
        "id": "OZUS7yWDWcOf"
      }
    },
    {
      "cell_type": "markdown",
      "source": [
        "###Mia implementazione"
      ],
      "metadata": {
        "id": "ybEijZSScXmn"
      }
    },
    {
      "cell_type": "code",
      "source": [
        "class NeuralNetwork:\n",
        "    \n",
        "    def __init__(self, input_dim, hidden_dim, output_dim, learning_rate=0.01, classification=False, epochs=10):\n",
        "        self.W1 = np.random.randn(input_dim, hidden_dim)\n",
        "        self.b1 = np.zeros((1, hidden_dim))\n",
        "        self.W2 = np.random.randn(hidden_dim, output_dim)\n",
        "        self.b2 = np.zeros((1, output_dim))\n",
        "        self.learning_rate = learning_rate\n",
        "        self.classification = classification\n",
        "        self.epochs = epochs\n",
        "\n",
        "\n",
        "    def forward(self, X):\n",
        "\n",
        "        sigmoide_function = np.vectorize(lambda x: self.sigmoid(x))\n",
        "\n",
        "        self.z1 = np.dot(X, self.W1) + self.b1\n",
        "        self.a1 = sigmoide_function(self.z1)\n",
        "        self.z2 = np.dot(self.a1, self.W2) + self.b2\n",
        "        self.y_hat = sigmoide_function(self.z2)\n",
        "\n",
        "        return self.y_hat\n",
        "    \n",
        "    def backwardRegressor(self, X, y_true, y_hat):\n",
        "\n",
        "        difference = y_hat - y_true\n",
        "\n",
        "        sigmoide_derivative = np.vectorize(lambda x: self.sigmoid(x) * self.sigmoid(1 - x))\n",
        "\n",
        "        dz2 = np.dot(difference, sigmoide_derivative(y_hat))\n",
        "        dW2 = np.dot(self.a1.T, dz2)\n",
        "        db2 = np.sum(dz2, axis=0, keepdims=True)\n",
        "\n",
        "        dz1 = np.dot(dz2, self.W2.T)* sigmoide_derivative(self.a1)\n",
        "        dW1 = np.dot(X.T, dz1)\n",
        "        db1 = np.sum(dz1, axis=0, keepdims=True)\n",
        "\n",
        "        return dW1, db1, dW2, db2\n",
        "        \n",
        "    def backwardClassifier(self, X, y_true, y_hat):\n",
        "\n",
        "        dz2 = y_hat - y_true\n",
        "        dW2 = np.dot(self.a1.T, dz2)\n",
        "        db2 = np.sum(dz2, axis=0, keepdims=True)\n",
        "\n",
        "        dz1 = np.dot(dz2, self.W2.T) * (1 - np.power(self.a1, 2))\n",
        "        dW1 = np.dot(X.T, dz1)  \n",
        "        db1 = np.sum(dz1, axis=0, keepdims=True)\n",
        "\n",
        "        return dW1, db1, dW2, db2\n",
        "\n",
        "\n",
        "    def sigmoid(self, gamma):\n",
        "        if gamma < 0:\n",
        "            return 1 - 1/(1 + math.exp(gamma))\n",
        "        else:\n",
        "            return 1/(1 + math.exp(-gamma))\n",
        "\n",
        "        \n",
        "    def train (self, X_train, y_train):\n",
        "        for i in range(self.epochs):\n",
        "            y_hat = self.forward(X_train)\n",
        "            if self.classification == True:\n",
        "                dW1, db1, dW2, db2 = self.backwardClassifier(X_train, y_train, y_hat)\n",
        "            else:\n",
        "                dW1, db1, dW2, db2 = self.backwardRegressor(X_train, y_train, y_hat)\n",
        "            self.W1 -= (self.learning_rate/len(X_train)) * dW1\n",
        "            self.b1 -= (self.learning_rate/len(X_train)) * db1\n",
        "            self.W2 -= (self.learning_rate/len(X_train)) * dW2\n",
        "            self.b2 -= (self.learning_rate/len(X_train)) * db2\n",
        "    \n",
        "    def predict(self, X_test):\n",
        "        y=self.forward(X_test)\n",
        "        if self.classification == False:\n",
        "            return y\n",
        "        else:\n",
        "            return [1 if i >= 0.5 else 0 for i in y]\n"
      ],
      "metadata": {
        "id": "VdQqQj5Gb1ek"
      },
      "execution_count": null,
      "outputs": []
    },
    {
      "cell_type": "code",
      "source": [
        "myNetwork = NeuralNetwork(input_dim=58, hidden_dim=250, output_dim=1, learning_rate=0.001)\n",
        "myNetwork.train(X_train=x_train, y_train=y_train, epochs=10)\n",
        "\n",
        "print('Mia implemntazione di Rete Neurale con 250 hidden nodes')\n",
        "print(f'accuracy_my_neural_network: {mean_squared_error(y_test, myNetwork.predict(x_test), squared=False)}')\n"
      ],
      "metadata": {
        "id": "pKKTs86LcRYD"
      },
      "execution_count": null,
      "outputs": []
    },
    {
      "cell_type": "markdown",
      "source": [
        "###SciKit "
      ],
      "metadata": {
        "id": "X2NK1zlDca3Y"
      }
    },
    {
      "cell_type": "code",
      "source": [
        "from sklearn.neural_network import MLPClassifier\n",
        "scikit = MLPClassifier(hidden_layer_sizes=(250, ), activation='logistic', solver='sgd', learning_rate_init=0.001, max_iter=10, shuffle=False, random_state=1, learning_rate='constant', alpha=0, )\n",
        "scikit.fit(x_train, y_train)\n",
        "\n",
        "print('Scikit-Learn: rete neurale')\n",
        "print(f'accuracy_sklearn_neural_network: {mean_squared_error(y_test, scikit.predict(x_test), squared=False)}')\n"
      ],
      "metadata": {
        "id": "dIYNSbd-c3DC"
      },
      "execution_count": null,
      "outputs": []
    },
    {
      "cell_type": "markdown",
      "source": [
        "##Classificazione con rete neurale"
      ],
      "metadata": {
        "id": "ltxtEWvqc87b"
      }
    },
    {
      "cell_type": "markdown",
      "source": [
        "Per quanto riguarda il passo di forward, è identico a quello utilizzato per la regressione. Per quanto riguarda il backward, occorre riformulare la dimostrazione vista in classe utilizzando la Binary Cross Entropy come funzione di Loss, al posto del MSE."
      ],
      "metadata": {
        "id": "ZyWR4BIzdFLa"
      }
    },
    {
      "cell_type": "markdown",
      "source": [
        "$$\n",
        "L = - \\frac{1}{m} \\sum\\limits_{i} \\Big( y^{(i)} \\log {( a_2^{(i)} )} + (1- y^{(i)}) ⋅ \\log (1- a_2^{(i)})\n",
        "$$"
      ],
      "metadata": {
        "id": "nJ-87NKxdaMY"
      }
    },
    {
      "cell_type": "markdown",
      "source": [
        "Il passo di BackPropagation è invece implementato nel seguente modo:\n",
        "\n",
        "$$\n",
        "\\frac{\\partial L }{ \\partial z_{2}^{(i)} } = a_2^{(i)} - y^{(i)}\n",
        "$$\n",
        "\n",
        "$$\n",
        "\\frac{\\partial L }{ \\partial W_2 } = a_1^{(i) T}  \\frac{\\partial L }{ \\partial z_{2}^{(i)} }\n",
        "$$\n",
        "\n",
        "$$\n",
        "\\frac{\\partial L }{ \\partial b_2 } = \\sum_i{\\frac{\\partial L }{ \\partial z_{2}^{(i)}}}\n",
        "$$\n",
        "\n",
        "$$\n",
        "\\frac{\\partial L }{ \\partial z_{1}^{(i)} } =  \\frac{\\partial L }{ \\partial z_{2}^{(i)} } W_2^T * ( 1 - a_1^{(i) 2})\n",
        "$$\n",
        "\n",
        "$$\n",
        "\\frac{\\partial L }{ \\partial W_1 } = X^T \\frac{\\partial L }{ \\partial z_{1}^{(i)} } \n",
        "$$\n",
        "\n",
        "$$\n",
        "\\frac{\\partial L }{ \\partial b_1 } = \\sum_i{\\frac{\\partial L }{ \\partial z_{1}^{(i)}}}\n",
        "$$\n"
      ],
      "metadata": {
        "id": "YTSHEp1gRO3b"
      }
    },
    {
      "cell_type": "markdown",
      "source": [
        "N.B. Il codice è implementato nella regressione scritta sopra"
      ],
      "metadata": {
        "id": "6-RO-FlWgSDn"
      }
    },
    {
      "cell_type": "markdown",
      "source": [
        "###Mia implementazione"
      ],
      "metadata": {
        "id": "2UYN9c8Ug28y"
      }
    },
    {
      "cell_type": "code",
      "source": [
        "classification_function = np.vectorize(lambda x: 1 if x >= 1400 else 0)\n",
        "mt_y_train_class = classification_function(y_train)\n",
        "my_y_test_class = classification_function(y_test)\n",
        "mt_y_train_class = mt_y_train_class.reshape(mt_y_train_class.shape[0], 1)\n",
        "my_y_test_class = my_y_test_class.reshape(my_y_test_class.shape[0], 1)\n",
        "\n",
        "myModel = NeuralNetwork(input_dim=58, hidden_dim=250, output_dim=1, learning_rate=0.1, classification=True, epochs=10)\n",
        "myModel.train(X_train=x_train, y_train=mt_y_train_class)\n",
        "print(\"Mia implementazione di classificazione con Rete Neurale con 250 hidden nodes\")\n",
        "print(f'classification_test_neural_network= {accuracy_score(my_y_test_class, myModel.predict(x_test))*100} %')\n"
      ],
      "metadata": {
        "id": "fh8EbIuOhIqH"
      },
      "execution_count": null,
      "outputs": []
    },
    {
      "cell_type": "markdown",
      "source": [
        "###Implementazione con SciKit "
      ],
      "metadata": {
        "id": "tWw0Y7JuhNIk"
      }
    },
    {
      "cell_type": "code",
      "source": [
        "from sklearn.neural_network import MLPClassifier\n",
        "clf = MLPClassifier(hidden_layer_sizes=(250, ), activation='logistic', learning_rate_init=0.001, max_iter=10, shuffle=False)\n",
        "clf.fit(x_train, y_train_class)\n",
        "\n",
        "print('Scikit-Learn: classificazione con rete neurale')\n",
        "print(f'classification_test_sklearn_neural_network= {accuracy_score(y_test_class, clf.predict(x_test))*100} %')"
      ],
      "metadata": {
        "id": "0aC8DB6JhUQE"
      },
      "execution_count": null,
      "outputs": []
    }
  ],
  "metadata": {
    "colab": {
      "provenance": [],
      "collapsed_sections": [
        "ObwrK7qp2i1r",
        "R6tDTEHs2hNJ",
        "VChmsSNJBG2l"
      ],
      "include_colab_link": true
    },
    "kernelspec": {
      "display_name": "Python 3",
      "name": "python3"
    },
    "language_info": {
      "name": "python"
    }
  },
  "nbformat": 4,
  "nbformat_minor": 0
}